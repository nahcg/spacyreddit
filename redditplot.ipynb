{
 "cells": [
  {
   "cell_type": "code",
   "execution_count": 5,
   "metadata": {},
   "outputs": [
    {
     "name": "stdout",
     "output_type": "stream",
     "text": [
      "Requirement already satisfied: spacy in c:\\users\\callm\\anaconda3\\lib\\site-packages (3.5.0)\n",
      "Requirement already satisfied: setuptools in c:\\users\\callm\\anaconda3\\lib\\site-packages (from spacy) (50.3.1.post20201107)\n",
      "Requirement already satisfied: packaging>=20.0 in c:\\users\\callm\\anaconda3\\lib\\site-packages (from spacy) (20.4)\n",
      "Requirement already satisfied: thinc<8.2.0,>=8.1.0 in c:\\users\\callm\\anaconda3\\lib\\site-packages (from spacy) (8.1.7)\n",
      "Requirement already satisfied: smart-open<7.0.0,>=5.2.1 in c:\\users\\callm\\anaconda3\\lib\\site-packages (from spacy) (6.3.0)\n",
      "Requirement already satisfied: numpy>=1.15.0 in c:\\users\\callm\\appdata\\roaming\\python\\python38\\site-packages (from spacy) (1.20.0)\n",
      "Requirement already satisfied: spacy-legacy<3.1.0,>=3.0.11 in c:\\users\\callm\\anaconda3\\lib\\site-packages (from spacy) (3.0.12)\n",
      "Requirement already satisfied: murmurhash<1.1.0,>=0.28.0 in c:\\users\\callm\\anaconda3\\lib\\site-packages (from spacy) (1.0.9)\n",
      "Requirement already satisfied: wasabi<1.2.0,>=0.9.1 in c:\\users\\callm\\anaconda3\\lib\\site-packages (from spacy) (1.1.1)\n",
      "Requirement already satisfied: tqdm<5.0.0,>=4.38.0 in c:\\users\\callm\\anaconda3\\lib\\site-packages (from spacy) (4.50.2)\n",
      "Requirement already satisfied: langcodes<4.0.0,>=3.2.0 in c:\\users\\callm\\anaconda3\\lib\\site-packages (from spacy) (3.3.0)\n",
      "Requirement already satisfied: srsly<3.0.0,>=2.4.3 in c:\\users\\callm\\anaconda3\\lib\\site-packages (from spacy) (2.4.5)\n",
      "Requirement already satisfied: jinja2 in c:\\users\\callm\\anaconda3\\lib\\site-packages (from spacy) (2.11.2)\n",
      "Requirement already satisfied: preshed<3.1.0,>=3.0.2 in c:\\users\\callm\\anaconda3\\lib\\site-packages (from spacy) (3.0.8)\n",
      "Requirement already satisfied: pydantic!=1.8,!=1.8.1,<1.11.0,>=1.7.4 in c:\\users\\callm\\anaconda3\\lib\\site-packages (from spacy) (1.10.4)\n",
      "Requirement already satisfied: requests<3.0.0,>=2.13.0 in c:\\users\\callm\\anaconda3\\lib\\site-packages (from spacy) (2.24.0)\n",
      "Requirement already satisfied: typer<0.8.0,>=0.3.0 in c:\\users\\callm\\anaconda3\\lib\\site-packages (from spacy) (0.7.0)\n",
      "Requirement already satisfied: catalogue<2.1.0,>=2.0.6 in c:\\users\\callm\\anaconda3\\lib\\site-packages (from spacy) (2.0.8)\n",
      "Requirement already satisfied: spacy-loggers<2.0.0,>=1.0.0 in c:\\users\\callm\\anaconda3\\lib\\site-packages (from spacy) (1.0.4)\n",
      "Requirement already satisfied: cymem<2.1.0,>=2.0.2 in c:\\users\\callm\\anaconda3\\lib\\site-packages (from spacy) (2.0.7)\n",
      "Requirement already satisfied: pathy>=0.10.0 in c:\\users\\callm\\anaconda3\\lib\\site-packages (from spacy) (0.10.1)\n",
      "Requirement already satisfied: six in c:\\users\\callm\\anaconda3\\lib\\site-packages (from packaging>=20.0->spacy) (1.15.0)\n",
      "Requirement already satisfied: pyparsing>=2.0.2 in c:\\users\\callm\\anaconda3\\lib\\site-packages (from packaging>=20.0->spacy) (2.4.7)\n",
      "Requirement already satisfied: blis<0.8.0,>=0.7.8 in c:\\users\\callm\\anaconda3\\lib\\site-packages (from thinc<8.2.0,>=8.1.0->spacy) (0.7.9)\n",
      "Requirement already satisfied: confection<1.0.0,>=0.0.1 in c:\\users\\callm\\anaconda3\\lib\\site-packages (from thinc<8.2.0,>=8.1.0->spacy) (0.0.4)\n",
      "Requirement already satisfied: colorama>=0.4.6; sys_platform == \"win32\" and python_version >= \"3.7\" in c:\\users\\callm\\anaconda3\\lib\\site-packages (from wasabi<1.2.0,>=0.9.1->spacy) (0.4.6)\n",
      "Requirement already satisfied: MarkupSafe>=0.23 in c:\\users\\callm\\anaconda3\\lib\\site-packages (from jinja2->spacy) (1.1.1)\n",
      "Requirement already satisfied: typing-extensions>=4.2.0 in c:\\users\\callm\\anaconda3\\lib\\site-packages (from pydantic!=1.8,!=1.8.1,<1.11.0,>=1.7.4->spacy) (4.4.0)\n",
      "Requirement already satisfied: idna<3,>=2.5 in c:\\users\\callm\\anaconda3\\lib\\site-packages (from requests<3.0.0,>=2.13.0->spacy) (2.10)\n",
      "Requirement already satisfied: certifi>=2017.4.17 in c:\\users\\callm\\anaconda3\\lib\\site-packages (from requests<3.0.0,>=2.13.0->spacy) (2020.6.20)\n",
      "Requirement already satisfied: urllib3!=1.25.0,!=1.25.1,<1.26,>=1.21.1 in c:\\users\\callm\\anaconda3\\lib\\site-packages (from requests<3.0.0,>=2.13.0->spacy) (1.25.11)\n",
      "Requirement already satisfied: chardet<4,>=3.0.2 in c:\\users\\callm\\anaconda3\\lib\\site-packages (from requests<3.0.0,>=2.13.0->spacy) (3.0.4)\n",
      "Requirement already satisfied: click<9.0.0,>=7.1.1 in c:\\users\\callm\\anaconda3\\lib\\site-packages (from typer<0.8.0,>=0.3.0->spacy) (7.1.2)\n",
      "Requirement already satisfied: kaleido in c:\\users\\callm\\anaconda3\\lib\\site-packages (0.2.1)\n"
     ]
    }
   ],
   "source": [
    "!pip install spacy\n",
    "!pip install kaleido\n",
    "import spacy\n",
    "import pandas as pd\n",
    "from spacy import displacy"
   ]
  },
  {
   "cell_type": "code",
   "execution_count": 6,
   "metadata": {},
   "outputs": [],
   "source": [
    "nlp1 = spacy.load(R\".\\output\\model-best\")"
   ]
  },
  {
   "cell_type": "code",
   "execution_count": 7,
   "metadata": {},
   "outputs": [],
   "source": [
    "df = pd.read_csv('C:\\\\Users\\\\callm\\\\Desktop\\\\scraper\\\\test_data.csv', encoding=\"utf8\")"
   ]
  },
  {
   "cell_type": "code",
   "execution_count": 8,
   "metadata": {},
   "outputs": [],
   "source": [
    "dfunique = df['Text'].unique()"
   ]
  },
  {
   "cell_type": "code",
   "execution_count": 9,
   "metadata": {},
   "outputs": [
    {
     "data": {
      "text/plain": [
       "array(['alaffia balancing day cream',\n",
       "       'alba botanica sensitive fragrance free mineral sunscreen lotion',\n",
       "       'allies of skin vitamin c serum',\n",
       "       'alpha lipoic acid 5% by the ordinary',\n",
       "       'alpha skin care dual action skin lightener',\n",
       "       'aquaphor healing ointment', 'aquaphor lip repair ointment',\n",
       "       'australian gold botanical tinted face sunscreen spf 50',\n",
       "       'aveeno calm + restore oat gel face moisturizer, sensitive skin',\n",
       "       'aveeno therapeutic shave gel', 'avene skin recovery cream',\n",
       "       'banila clean it zero purity', 'bioderma sensibio h2o ',\n",
       "       'biore uv aqua rich watery essence spf 50 pa+++',\n",
       "       'blue lizard face mineral based sunscreen with hydrating hyaluronic acid spf 30+ uva/uvb protection',\n",
       "       \"burt's bees lavender and honey lip butter\",\n",
       "       'cerave healing ointment ', 'cerave hydrating cleanser',\n",
       "       'cetaphil restoraderm eczema calming body wash',\n",
       "       'clean & clear persa gel 10',\n",
       "       'clinique dramatically different moisturizing gel',\n",
       "       'colorescience sunforgettable total protection face shield classic spf 50',\n",
       "       'cosrx snail 92 all in one cream', 'dr. hauschka cleansing cream',\n",
       "       'dr. loretta gentle hydrating cleanser',\n",
       "       'dr. song 2.5% benzoyl peroxide advanced acne gel',\n",
       "       'drunk elephant peekee bar',\n",
       "       'e.l.f. holy hydration fragrance free face cream',\n",
       "       'e.l.f. lip exfoliator',\n",
       "       'elizavecca milky piggy carbonated bubble clay mask',\n",
       "       'eltamd uv clear broad spectrum spf 46',\n",
       "       'etude house soon jung 10 free moist emulsion',\n",
       "       'etude house soon jung ph 6.5 whip cleanser',\n",
       "       'eucerin ph 5 skin protection shower oil',\n",
       "       'evan healy whipped shea butter for lips',\n",
       "       'farmacy green clean make up removing cleansing balm',\n",
       "       'first aid beauty pure skin face cleanser',\n",
       "       'first aid beauty ultra repair cream',\n",
       "       'freeman avocado & oatmeal facial clay mask',\n",
       "       'fresh soy face cleanser',\n",
       "       'garden of wisdom 8% azelaic serum azelaic acid %: 8%',\n",
       "       'garnier skin active micellar foaming gel cleanser',\n",
       "       'glossier balm dotcom', 'gloves in a bottle sheilding lotion ',\n",
       "       'glow recipe watermelon glow sleeping mask',\n",
       "       'hada labo goku jyun foaming face wash',\n",
       "       'hada labo tokyo anti aging facial sheet masks',\n",
       "       'heimish cleansing balm ',\n",
       "       'isehan kiss me mommy uv aqua milk waterproof sunscreen spf 50+ pa++++',\n",
       "       'jergens natural glow moisturizer',\n",
       "       'kate somerville exfolikate intensive exfoliating treatment',\n",
       "       \"kiehl's creamy eye treatment with avocado\",\n",
       "       'kiku masamune high moist lotion',\n",
       "       'korres greek yoghurt nourishing probiotic gel cream moisturizer',\n",
       "       'la roche posay toleriane hydrating gentle facial cleanser ',\n",
       "       'lush ultrabland',\n",
       "       \"makeup artist's choice 15% mandelic acid & 15% salisylic acid\",\n",
       "       'mizon snail recovery gel cream',\n",
       "       'muji sensitive skin moisturizing milk, high moisture',\n",
       "       'neutrogena hydro boost gel cream with hyaluronic acid for extra dry skin ',\n",
       "       'neutrogena hydro boost water gel',\n",
       "       'niod low viscosity cleaning ester', 'nivea moisture care',\n",
       "       'nivea sun care uv milky gel spf 50+ pa++++ ',\n",
       "       'now solutions pure lanolin', 'nufountain c20 + ferulic vitamin c',\n",
       "       'ocusoft foaming lid scrub',\n",
       "       \"paula's choice 2% bha body spot exfoliant\",\n",
       "       \"paula's choice skin perfecting 2% bha liquid exfoliant\",\n",
       "       'ren evercalm gentle cleansing milk',\n",
       "       'rhoto skin aqua uv super moisture gel spf 50+ pa++++ ',\n",
       "       'roc retinol correxion eye cream',\n",
       "       'scinic honey all in one ampoule', 'simple refreshing facial wash',\n",
       "       'skinceuticals physical fusion uv defense spf 50',\n",
       "       'st ives timeless skin collagen elastin facial moisturizer',\n",
       "       'stratia velvet cleansing milk', 'stridex maximum strength pads',\n",
       "       'sunday riley good genes',\n",
       "       'supergoop play everyday lotion spf 50 with sunflower extract',\n",
       "       'thalgo eveil la mer gentle cleansing milk ',\n",
       "       'the body shop body butter', 'the jojoba company jojoba oil',\n",
       "       'the ordinary 100% l ascorbic acid powder, mixed with the ordinary resveratrol 3% ferulic acid 3% vitamin c ',\n",
       "       'the ordinary glycolic acid 7% toning solution',\n",
       "       'the ordinary natural moisturizing factors + ha',\n",
       "       '100% pure retinol restorative overnight balm retinoid ',\n",
       "       '100% pure squalane oil',\n",
       "       '20% vitamin c+e+ferulic serum aka cef serum',\n",
       "       'a game 5   geek & gorgeous retinoid ',\n",
       "       'a’pieu pure block natural sun cream spf 45 pa+++',\n",
       "       'acne.org treatment',\n",
       "       'acne.org treatment benzoyl peroxide %: 2.5%',\n",
       "       'acnelyse retinoid ', 'acure everyday eczema lotion',\n",
       "       'acure seriously soothing cleansing cream', 'adapalene gel 0.3%',\n",
       "       'alaffia powerful neem night cream',\n",
       "       'alaffia purely coconut lip balm',\n",
       "       'alba botanica very emollient fragrance free mineral sunscreen spf 30',\n",
       "       'albolene cream makeup remover', 'albolene moisturizing cleanser',\n",
       "       'algenist sublime defense ultra lightweight uv defense fluid spf 50',\n",
       "       'alpha 10% aha essential renewal gel',\n",
       "       'alpha 14% aha intensive rejuvenating serum',\n",
       "       'alpha 14% aha serum',\n",
       "       'alpha skincare 12% glycolic acid revitalizing body lotion',\n",
       "       'alpha skincare essential renewal lotion 10% glycolic aha',\n",
       "       'alpha skincare renewal body lotion, 12% glycolic aha',\n",
       "       'altruist dermatologist sunscreen spf30',\n",
       "       'altruist dermatologist sunscreen spf50',\n",
       "       'altruist sunscreen spf 50', 'altruist sunscreen spf50',\n",
       "       'amlactin alpha hydroxy therapy daily moisturizing lotion',\n",
       "       'andalou naturals revitalise serum',\n",
       "       'anthelios body and face gentle lotion mineral sunscreen spf 50',\n",
       "       'anthelios xl fps 50+ stick ',\n",
       "       \"a'pieu soo boo ji sun cotton spf50+ pa++++\", 'aqurea',\n",
       "       'arcona triad pads', 'argan oil + vaseline',\n",
       "       'aritaum ginger sugar lip mask', 'astalift jelly aquarysta ',\n",
       "       'astral original all over moisturiser',\n",
       "       'aveeno active naturals daily moisturizing lotion',\n",
       "       'aveeno baby cleansing therapy moisturizing wash',\n",
       "       'aveeno calm + restore nourishing oat facial cleanser',\n",
       "       'aveeno eczema therapy daily moisturizing cream',\n",
       "       'aveeno protect and hydrate sunnscreen with spf 30',\n",
       "       'aveeno restorative skin therapy oat repairing cream',\n",
       "       'aveeno sheer hydration daily moisturizing lotion',\n",
       "       'aveeno ultra calming foaming cleanser',\n",
       "       'avene antirougeurs calm soothing mask',\n",
       "       'avene cleanance cleansing gel', 'avene cleansing foam',\n",
       "       'avene retrinal 0.1 intensive cream retinoid ',\n",
       "       'avène soothing eye contour cream', 'avene xeracalm cream',\n",
       "       'avon anew clinical advanced retexturizing peel',\n",
       "       'azclear action medicated lotion azelaic acid %: 20%',\n",
       "       'azclear lotion  + to suspension mask .azelaic acid %: 20% + 10% .',\n",
       "       'azclear medicated lotionazelaic acid %: 20% w/w',\n",
       "       'azclearazelaic acid %: 20%', 'azeliac acid azelaic acid %: 15%',\n",
       "       'aztec clay mask', 'aztec healing clay',\n",
       "       'babylove reinigendes waschgel', 'badger balm cuticle care',\n",
       "       'badger balm foot balm', 'bag balm', 'bag balm ',\n",
       "       'balea med ultra sensitive gesichtswasser', 'balea reinigungsöl',\n",
       "       'balmstix lip balm', 'banana boat kids mineral spf 50',\n",
       "       'banana boat simply protect aqua sunscreen lotion ',\n",
       "       'banila co clean it zero classic', 'banila co. clean it zero',\n",
       "       'basis cleaner clean face wash', 'belif the true cream aqua bomb',\n",
       "       'belif the true cream moisturizing bomb',\n",
       "       'belitae vitamin c serum', 'benton deep green tea lotion',\n",
       "       'benton snail bee essence',\n",
       "       'benzac ac gel benzoyl peroxide %: 2.5%, 5%, 10%', 'benzaclin ',\n",
       "       'benzagel acne gel benzoyl peroxide %: 5', 'bioderma sensibio h2o',\n",
       "       'biokosma nurturing body oil', 'biologique recherche lait vip o2',\n",
       "       'biologique recherche lotion p50 pigm 400',\n",
       "       'biologique recherche p50 ', 'biore perfect face milk spf50 ',\n",
       "       'biore perfect face milk spf50+ pa++++ ',\n",
       "       'biore sarasara mild care milk spf30',\n",
       "       'biore uv aqua rich water gel spf50+/pa++++',\n",
       "       'biore uv nobi nobi kids milk spf 50+ pa++++',\n",
       "       'biore uv nobinobi /carefree kids milk spf 50+',\n",
       "       'biossance squalane + peptide eye gel',\n",
       "       'biossance squalene + zinc sheer mineral sunscreen spf 30',\n",
       "       'bitchstix green tea and aloe spf 30',\n",
       "       'bite beauty agave lip mask',\n",
       "       'bite beauty agave+ nighttime lip therapy',\n",
       "       'bite beauty agave+ weekly lip scrub',\n",
       "       'bleekman 1802 pure goal milk facial cleansing wipes',\n",
       "       'bliss kiss simply pure™ hydrating oil',\n",
       "       'blistex five star lip protection',\n",
       "       'blue lizard \"australian\" sunscreen   face',\n",
       "       'body shop flannel cloth',\n",
       "       'boots simply sensitive cleansing lotion  ~~boots expert sensitive gentle cleansing lotion~~',\n",
       "       'boots’ soltan once face spf50+', 'boscia purifying cleansing gel',\n",
       "       'botanic farmgrain ferment cleansing sherbet', 'braun silk epi 9',\n",
       "       \"burt's bees facial cleansing towelettes with white tea extract\",\n",
       "       \"burt's bees overnight intensive lip treatment\",\n",
       "       'burts bees peppermint foot cream', 'by wishtrend vitamin c ',\n",
       "       'bye bye blemish drying lotion',\n",
       "       'c&h amber brown sugar and honey ', 'c.o. bigelow rose salve',\n",
       "       'calamine lotion', 'canmake mermaid skin gel uv',\n",
       "       \"carley's clear & smooth moisturizer for acne prone skin daytime lotion\",\n",
       "       'carmex daily care moisturizing lip balm ',\n",
       "       'caudalie resveratrol eye lifting balm',\n",
       "       'cay skin lip balm spf 30', 'ceramedx extra gentle cleanser',\n",
       "       'cerave acne foaming cream cleanser benzoyl peroxide %: 4%',\n",
       "       'cerave acne foaming cream cleanserbenzoyl peroxide %: 4%',\n",
       "       'cerave baby cream mixed with half cerave healing ointment',\n",
       "       'cerave baby moisturizing cream',\n",
       "       'cerave baby moisturizing lotion', 'cerave baby wash & shampoo',\n",
       "       'cerave eye repair cream', 'cerave facial moisturising lotion pm',\n",
       "       'cerave facial moisturizing lotion pm',\n",
       "       'cerave facial moisturizing pm lotion', 'cerave foaming cleanser',\n",
       "       'cerave foaming facial cleanser',\n",
       "       'cerave healing lip balm, spf 30', 'cerave healing ointment',\n",
       "       'cerave hydrating facial cleanser',\n",
       "       'cerave intensive stretch marks cream.',\n",
       "       'cerave moisturizing cream ',\n",
       "       'cerave moisturizing cream aka: \"in the tub\"',\n",
       "       'cerave moisturizing lotion',\n",
       "       'cerave pm facial moisturizing lotion',\n",
       "       'cerave pm facial moisturizing lotionniacinamide %:  4%',\n",
       "       'cerave renewing sa cream', 'cerave sa cream',\n",
       "       'cerave skin renewing night cream',\n",
       "       'cerave ultra light moisturizer + spf 30',\n",
       "       'ceremedx ultra moisturizing cream', 'cetaphil',\n",
       "       'cetaphil daily advance lotion', 'cetaphil gentle skin cleanser',\n",
       "       'cetaphil moisturizing cream', 'cetomacrogol crème', 'clarisonic',\n",
       "       'clarisonic mia 2', 'clarisonic refreshing gel cleanser',\n",
       "       'classic chapstick lip balm',\n",
       "       'clean & clear continuous control acne cleanser benzoyl peroxide %: 10%',\n",
       "       'clean & clear morning burst hydrating gel moisturizer',\n",
       "       'clinique acne solutions oil control cleansing mask',\n",
       "       'clinique city block spf 25', 'clinique city block spf 40',\n",
       "       'clinique dramatically different hydrating jelly',\n",
       "       'clinique dramatically different lotion plus',\n",
       "       'clinique even better essence lotion combination to oily',\n",
       "       'clinique moisture surge intense gel cream',\n",
       "       'clinique moisture surge intense skin fortifying hydrator',\n",
       "       'clinique repair anti gravity eye cream',\n",
       "       'clinique repairwear anti gravity eye lift cream',\n",
       "       'clinique superbalm ', 'clinique superdefense age defense spf 20',\n",
       "       'clinique take the day off cleansing balm',\n",
       "       'clinique take the day off cleansing milk',\n",
       "       'clinique take the day off cleansing oil',\n",
       "       'clinique turnaround revitalizing lotion', 'coconut oil',\n",
       "       \"combination of olay 7 effects  plus avon's thermafirm cream.\",\n",
       "       'complex 15 daily face cream',\n",
       "       'coola mineral liplux organic tinted lip balm sunscreen spf 30',\n",
       "       'corsx bha blackhead power liquid',\n",
       "       'corsx galactomyces whitening power essence',\n",
       "       'cortizone 10 hydrocortizone cream',\n",
       "       'cosrx acne pimple master patch',\n",
       "       'cosrx advanced snail 92 all in one cream',\n",
       "       'cosrx advanced snail 96 mucin power essence',\n",
       "       'cosrx aha 7 whitehead power liquid',\n",
       "       'cosrx aha/bha clarifying treatment tonertype of aha: glycolic acid',\n",
       "       'cosrx bha blackhead power liquid', 'cosrx honey ceramide cream',\n",
       "       'cosrx honey ceramide full moisture cream',\n",
       "       'cosrx low ph good morning gel cleanser',\n",
       "       'cosrx low ph good morning gel cleanser ',\n",
       "       'cosrx salicylic acid daily gentle cleanser',\n",
       "       'cosrx snail 92 followed by a layer of dr. jart+ ceramidin cream',\n",
       "       'cosrx ultimate moisturizing honey overnight mask',\n",
       "       'cotz face natural skin tone spf 40', 'cotz lip balm spf 45',\n",
       "       'cōtz lip balm spf 45', 'cotz sensitive spf 40',\n",
       "       'crabtree & evelyn hand creams', 'curel fragrance free',\n",
       "       'curel intensive moisture cream', 'curology retinoid ',\n",
       "       'curology retinoid type/%: my current prescription containts 0.02% tretinoin',\n",
       "       'cveenk aloe vera gel with ha, along with mineral oil',\n",
       "       'cvs sensitive skin body wash', 'cyberderm simply zinc sun whip',\n",
       "       'decubal face vital cream', 'decubal lips & dry spots balm',\n",
       "       'derma e overnight peel',\n",
       "       'dermal korea collagen essence full face facial mask sheets ',\n",
       "       'dermalogica daily microfoliant',\n",
       "       'dermalogica multivitamin recovery mask',\n",
       "       'dermalogica oil free matte',\n",
       "       'desert essence organics soothing body wash fragrance free',\n",
       "       'dhc cleansing oil', 'dhc deep cleansing oil', 'dhc lip cream ',\n",
       "       'dhc mineral mask',\n",
       "       'differin adapalene gel 0.1% acne treatmentretinoid ',\n",
       "       'differin gelretinoid ', 'differin retinoid type/%: adapalene .1%',\n",
       "       'diy aspirin mask', 'diy emulsiying cleansing oil',\n",
       "       'diy honey mask',\n",
       "       'diy oil cleanser with high linoleic sunflower oil and tto',\n",
       "       'diy oil cleanser with sunflower oil and tto',\n",
       "       'diy traditional cleansing oil',\n",
       "       'dove unscented soap for sensitive skin.', 'dove white beauty bar',\n",
       "       \"dr. bronner's castile liquid soap \",\n",
       "       \"dr. bronner's liquid castile soap\", 'dr. dan’s cortibalm',\n",
       "       'dr. hauschka lip care stick', 'dr. lin daily hydrating gel',\n",
       "       'dr. paw paw overnight lip mask',\n",
       "       'dream eye cream by youth to the people',\n",
       "       'drmtlgy universal tinted moisturizer spf 46',\n",
       "       'drunk elephant c firma vitamin c ',\n",
       "       'drunk elephant intensive hydration gel',\n",
       "       'drunk elephant kamili cream body cleanser',\n",
       "       'drunk elephant lala retro',\n",
       "       'drunk elephant protini polypepide cream',\n",
       "       'drunk elephant slaai™ makeup melting butter cleanser',\n",
       "       'drunk elephant t.l.c. sukari babyfacial™ aha + bha mask',\n",
       "       'drunk elephant tlc framboos night serum',\n",
       "       'drunk elephant tlc sukari babyfacial', 'ducray dexyane med',\n",
       "       'e.l.f holy hydration  makeup melting cleansing balm',\n",
       "       'ecolips bee free vegan lip balms ', 'elf lip exfoliator',\n",
       "       'elizabeth arden 8hr cream ',\n",
       "       'elizabeth arden eight hour cream nourishing lip balm broad spectrum sunscreen spf 20',\n",
       "       'elta md uv clear spf 46', 'elta md uv shield',\n",
       "       'elta md uv shield spf 45', 'eltamd am therapy',\n",
       "       'eltamd uv clear spf 46   untinted ',\n",
       "       'eltamd uv clear spf 46 untinted ',\n",
       "       'eltamd uv physical broad spectrum spf 41',\n",
       "       'environ vitamin a, c & e body oil + environ derma lac lotion',\n",
       "       'eos lemon drop spf balm',\n",
       "       'epicuren discovery herbal gel cleanser',\n",
       "       'etude house soon jung ph6.5 whip cleanser',\n",
       "       'etude house soonjung moist relief all in one gel',\n",
       "       'etude house sunprise mild airy finish',\n",
       "       'eucerin complete repair moisturizing cream',\n",
       "       'eucerin dermopurifyer cleansing gel',\n",
       "       'eucerin original healing cream',\n",
       "       'eucerin redness relief cleansing gel',\n",
       "       'eucerin replenishing face cream 5% urea',\n",
       "       'eucerin roughness relief',\n",
       "       'evoluderm micellar water for reactive skin',\n",
       "       'fab ultra repair cream', 'farmacy eye dew',\n",
       "       'farmacy green clean makeup removing cleansing balm',\n",
       "       'farmacy green defense ', 'farmacy green screen',\n",
       "       'farmacy honeymoon glow', 'finacea gel azelaic acid %:  15%',\n",
       "       'finacea gelazelaic acid %: 15%',\n",
       "       'first aid beauty arnica relief and rescue mask',\n",
       "       'first aid beauty ultra repair barriair cream',\n",
       "       'first aid beauty ultra repair cream intense hydration',\n",
       "       'first aid beauty ultra repair face moisturizer',\n",
       "       'first aid beauty ultra repair hydrating serum',\n",
       "       'first aid beauty ultra repair instant oatmeal mask',\n",
       "       'first aid beauty ultra repair intensive lip balm',\n",
       "       'first aid beauty ultra repair lip therapy',\n",
       "       'first aid beauty ultra repair pure mineral sunscreen moisturizer spf 40',\n",
       "       'first aid beauty ultra repair wild oat hydrating toner',\n",
       "       'foreo luna', 'foreo luna mini',\n",
       "       'formula 10.0.6 be berry ready daily foaming cleanser',\n",
       "       'frank body coffee scrub',\n",
       "       'fré protect me defense facial moisturizer',\n",
       "       'freeman cucumber facial peel off mask',\n",
       "       'freeman facial polishing mask charcoal and black sugar',\n",
       "       'freeset donkey milk skin gel mask \"healing\"',\n",
       "       'fur   stubble cream',\n",
       "       'garden of wisdom 8% azelaic acid serum old formula azelaic acid %: 8%',\n",
       "       'garden of wisdom 8% azelaic acid serumazelaic acid %: 8% aza',\n",
       "       'garnier micellar cleansing water ...waterproof water?',\n",
       "       'garnier micellar water', 'garnier mositure bomb',\n",
       "       'garnier ombrelle ultra light moisturizing cream',\n",
       "       'garnier skinactive micellar makeup removing towelettes',\n",
       "       'garnier skinactive micellar water ',\n",
       "       'garnier® skinactive™ micellar cleansing water all in 1 makeup remover & cleanser ',\n",
       "       'geek & gorgeous jelly joker', 'gena healthy hoof cream',\n",
       "       'gillette venus embrace sensitive refillable razor',\n",
       "       'glossier balm dotcom ', 'glossier milky jelly',\n",
       "       'glossier milky jelly cleanser',\n",
       "       'glow recipe watermelon glow pha+ bha pore tight toner',\n",
       "       'glysolid skin cream', 'gold bond ultimate eczema relief lotion',\n",
       "       'gold bond ultimate intensive hand healing cream',\n",
       "       \"gold bond ultimate men's essentials everyday hydrating lotion\",\n",
       "       'gold bond ultimate rough & bumpy skin daily therapy cream',\n",
       "       'gold bond ultimate softening foot cream',\n",
       "       \"gold bond's rough and bumpy exfoliating cream\",\n",
       "       'goodness 3 in 1 jelly oil cleanser', 'green clay with sulphur.',\n",
       "       'hada labo goku jyun oil cleanser',\n",
       "       'hada labo gokujyun lotion moist',\n",
       "       'hada labo hyaluronic acid cleansing foam ',\n",
       "       'hada labo rohto gokujyn hyaluronic acid cleansing foam',\n",
       "       'hada labo rohto hadalabo gokujun hyaluronic lotion moist',\n",
       "       'hada labo shirojyun clear lotion.',\n",
       "       'hada labo tokyo skin plumping gel cream',\n",
       "       'hada labo tokyo ultimate anti aging facial mask',\n",
       "       'hada lobo cleansing oil', 'hand and nail cream',\n",
       "       'hanskin pore cleansing oil ',\n",
       "       'hard candy instant lip fix treatment duo', 'hären washcloth',\n",
       "       'harmon face values daily hydrating cleanser', \"harry's face wash\",\n",
       "       'haus of gloi lip balm', 'heliocare 360° oil free spf 50',\n",
       "       'hey honey good morning honey silk facial serum',\n",
       "       'holifrog tashmoo water lily nourishing milky wash',\n",
       "       'humane clarifying toner', 'humane company clarifying toner',\n",
       "       'hurraw unscented balm', 'hydrocolloid bandages',\n",
       "       'hylamide subq anti age',\n",
       "       'illiyoon ato ceramide concentrate cream',\n",
       "       'illiyoon ceramide ato concentrate cream', \"i'm from honey mask\",\n",
       "       'indeed labs   vitamin c24vitamin c ',\n",
       "       'indie lee brightening cleanser', 'indie lee coq 10 toner',\n",
       "       'innisfree my lip balm', 'instant oatmeal',\n",
       "       'intense therapy lip balm spf 25 with shea butter & vitamin e',\n",
       "       'isdin fotoprotector fusion water spf50',\n",
       "       'isehan kiss me mommy  uv aqua milk spf50+ pa++++',\n",
       "       'it cosmetics miracle water micellar cleanser',\n",
       "       'j.one jelly cleanser',\n",
       "       'jack black intense therapy lip balm spf 25',\n",
       "       'jack black intense therapy lip balm spf 25 in black tea and blackberry',\n",
       "       'jack black intense therapy lip balm spf25',\n",
       "       'jergens natural glow daily moisturizer',\n",
       "       'jojoba oil by leven rose', 'kate somerville age arrest',\n",
       "       'kate somerville anti bac clearing lotion benzoyl peroxide %: 5%',\n",
       "       'kate somerville anti bacbenzoyl peroxide %: 5%',\n",
       "       'kate somerville true lash',\n",
       "       'kate sommerville exfolikate intensive exfoliating treatment',\n",
       "       'kiehl’s powerful strength dark circle reducing vitamin c eye serum',\n",
       "       \"kiehl's creme d'elegance repairateur\",\n",
       "       \"kiehl's nurturing baby cream for face & body\",\n",
       "       \"kiehl's ultra facial cream\", \"kiehl's ultra facial moisturizer\",\n",
       "       'kiku masamune  high moist lotion .',\n",
       "       'kiss my face anti stress bath and shower gel',\n",
       "       'klairs soft airy uv essence 50 pa++++',\n",
       "       'klairs supple preparation facial toner',\n",
       "       'klairs supple preparation unscented toner', 'kojie san soap.',\n",
       "       'konjac sponge', 'korres greek yoghurt foaming cream cleanser',\n",
       "       'kose softymo deep cleansing oil',\n",
       "       'kose softymo speedy cleansing oil ', 'kose speedy cleansing oil',\n",
       "       'krave beauty matcha hemp hydrating cleanser',\n",
       "       'kravebeauty beet shield ',\n",
       "       'l’occitane 20% shea butter hand cream',\n",
       "       'la mer the eye concentrate',\n",
       "       'la roche posay anthelios lotion spf 60',\n",
       "       'la roche posay anthelios mineral spf 50 ',\n",
       "       'la roche posay anthelios shaka fluid spf 50+',\n",
       "       'la roche posay anthelios xl spf 50+ ultra light fluid ',\n",
       "       'la roche posay cicaplast baume b5',\n",
       "       'la roche posay effaclar duo  unifiant ',\n",
       "       'la roche posay effaclar duo benzoyl peroxide %: 5.5%',\n",
       "       'la roche posay effaclar duobenzoyl peroxide %: 5.5%',\n",
       "       'la roche posay effaclar medicated gel cleanse',\n",
       "       'la roche posay hydreane', 'la roche posay lipikar baume ap+',\n",
       "       'la roche posay lipikar syndet ap+ ',\n",
       "       'la roche posay toleriane caring wash',\n",
       "       'la roche posay toleriane dermo cleanser',\n",
       "       'la roche posay toleriane dermo cleanser/dermo nettoyant',\n",
       "       'la roche posay toleriane double repair facial moisturizer with spf 30',\n",
       "       'la roche posay toleriane gentle hydrating cleanser',\n",
       "       'la roche posay toleriane hydrating',\n",
       "       'la roche posay toleriane purifying foaming cleanser for normal to oily skin',\n",
       "       'la roche posay toleriane purifying foaming wash',\n",
       "       'la roche posay toleriane ultra ', 'lactic acid peel 40% muac',\n",
       "       'lancome energie de vie intense lotion', 'lancôme galatée confort',\n",
       "       'lancome visionnaire nuit beauty sleep perfector',\n",
       "       'lancome visionnaire nuit beauty sleep perfector advanced multi correcting gel in oil',\n",
       "       'laneige lip sleeping mask', 'laneige lip sleeping mask   berry',\n",
       "       'laneige multiberry yogurt repairing mask',\n",
       "       'laneige water bank moisture cream', 'lanolin',\n",
       "       'lanolips 101 ointment fruities strawberry',\n",
       "       'lansinoh breastfeeding salve', 'lansinoh hpa lanolin',\n",
       "       'lansinoh hpa lanolin ', 'lip rescue ultra hydrating',\n",
       "       'lipidol face cleansing oil', 'liquid lanolin',\n",
       "       \"l'occitane ultra rich body cream\",\n",
       "       'look at me bubble foaming facial cleanser ',\n",
       "       \"l'oreal advanced revitalift radiant smoothing cream cleanser\",\n",
       "       'lovea bio kids spf 50',\n",
       "       'lubriderm daily moisture for normal to dry skin, fragrance free',\n",
       "       'lush charity pot', 'lush cosmetics sandstone soap bar',\n",
       "       'lush dark angel scrub', 'lush dark angels', 'lush dream cream',\n",
       "       'lush lip scrub  link to mint juleps, but all of the flavors are great',\n",
       "       'lush lip scrubs', \"lush's ultrabland\", 'lypsyl',\n",
       "       'mac lip scrubtious', 'mad hippie face cream',\n",
       "       'mad hippie vitamin c serum',\n",
       "       'madre labs, camellia care, egcg green tea skin cream plus resveratrol and hyaluronic acid, 1.7 fl oz ',\n",
       "       'maelove nia10 calming facial serumniacinamide %: 10%',\n",
       "       'maggard alum block', 'maggard mr7 double edge safety razor',\n",
       "       'make p:rem blue ray sun gel ',\n",
       "       'make p:rem uv defense me. blue ray sun fluid spf50+ pa++++',\n",
       "       \"makeup artist's choice  40% lactic acid peel\",\n",
       "       \"makeup artist's choice 15% salicylic acid peel\",\n",
       "       \"makeup artist's choice 25% mandelic acid\",\n",
       "       'makeup artists choice glycolic peel 30%',\n",
       "       'malin + goetz mojito balm',\n",
       "       'manyo factory bifidalacto ferment complex',\n",
       "       'marcelle ultra gentle cleansing gel',\n",
       "       'mario badescu drying cream', 'mario badescu drying lotion',\n",
       "       'mario badescu oil free moisturizer',\n",
       "       'maybelline baby lips in 05 quenched ',\n",
       "       'md complete youthful skin sun shield sunscreen anti aging by dr. brian zelickson ',\n",
       "       'mecca cosmetica to save face spf 30 mineral gel cream',\n",
       "       'medela purelan lanolin cream',\n",
       "       'mederma ag advanced dry skin therapy facial toner',\n",
       "       'mediklin trretinoid ', 'melano cc anti spot essence',\n",
       "       'melazepam azelaic acid %: 20%', 'melazepamazelaic acid %: 20%',\n",
       "       'mentholatum skin aqua uv moisture milk spf50+ pa+++',\n",
       "       'metroruboril a.z. by isispharm aazelaic acid %:  15%',\n",
       "       'micro dose anti aging retinol serum with ceramides and peptide retinoid ',\n",
       "       'microfiber cloth', 'mineral oil + cromollient sce',\n",
       "       'missha all around safe block sun gel spf50+ pa++++',\n",
       "       'missha super aqua peeling gel',\n",
       "       'mizon snail repair intensive ampoule', 'moogoo milk wash',\n",
       "       'muac ph prep toner', 'muji sensitive cleansing oil  ',\n",
       "       'murad clarifying water gel', 'murad essential c eye cream spf 15',\n",
       "       'muslin cloth', \"my beauty diary imperial bird's nest\",\n",
       "       'my beauty diary imperial birds nest mask',\n",
       "       'nameraka honpo sana isoflavone cleansing foam wash',\n",
       "       'naruko taiwan magnolia brightening and firming toner ex',\n",
       "       'natural moisturizing factors + ha',\n",
       "       'naturium azelaic acid 10% emulsionazelaic acid %: 10%',\n",
       "       'necessaire the body wash', 'neogen real ferment micro essence',\n",
       "       'neostrata foaming glycolic washskin type: acne prone to normal skin',\n",
       "       'neova dna damage control everyday spf 44',\n",
       "       'neutrogena clear face break out free liquid lotion sunscreen broad spectrum spf 55',\n",
       "       'neutrogena deep clean purifying micellar cleansing water  ',\n",
       "       'neutrogena extra gentle cleanser',\n",
       "       'neutrogena fresh foaming cleaner',\n",
       "       'neutrogena hydro boost aqua gel cleanser',\n",
       "       'neutrogena hydro boost body gel cream   fragrance free',\n",
       "       'neutrogena hydro boost fragrance free hydrating body gel cream',\n",
       "       'neutrogena hydro boost gel',\n",
       "       'neutrogena hydroboost gel cream  for extra dry skin',\n",
       "       'neutrogena makeup remover cleansing towelettes   fragrance free',\n",
       "       'neutrogena on the spot acne treatment',\n",
       "       'neutrogena rapid clear stubborn acne daily leave on mask',\n",
       "       'neutrogena revitalizing lip balm spf 10',\n",
       "       'neutrogena stubborn acne am face treatment benzoyl peroxide %: 2.5 micro',\n",
       "       'neutrogena ultra gentle daily cleanser creamy formula',\n",
       "       'neutrogena ultra gentle daily foaming cleanser',\n",
       "       'neutrogena ultra gentle hydrating cleanser ',\n",
       "       'neutrogena ultra light cleansing oil',\n",
       "       'neutrogena ultra sheer dry touch spf 30',\n",
       "       'neutrogena visibly clear daily oil free moisturiser',\n",
       "       'niod flavanone mud', 'niod survival 0',\n",
       "       'nip+fab glycolic fix daily cleansing pads  ',\n",
       "       'nip+fab glycolic fix pads',\n",
       "       'nivea lip care mint & minerals lip balm',\n",
       "       'nivea nourishing body milk',\n",
       "       'nivea sun protect & light feel sunscreen lotion spf30',\n",
       "       'nivea sun protect water gel spf50',\n",
       "       'nivea sun protection plus uv milky essence spf 50+ pa++++',\n",
       "       'nooni snowflake cleansing balm', 'now foods liquid lanolin',\n",
       "       'now solutions dark spot serum', 'nufountain c20+ferulic',\n",
       "       'nuxe rêve de miel ',\n",
       "       'nuxe reve de miel ultra nourishing lip balm',\n",
       "       'nuxe sun high protection delicious cream for face 30 spf',\n",
       "       'o cosmedics mineral pro spf 30+ sheer tint',\n",
       "       'oars + alps solid face wash',\n",
       "       'obagi professional c sérum 20% vitamin c ',\n",
       "       'off brand vaseline in a tube',\n",
       "       'oh k  antioxidant serumvitamin c ',\n",
       "       'oh my cream huile démaquillante',\n",
       "       'oilatum natural repair face cream',\n",
       "       \"o'keefes working hands 2.7oz/76g \",\n",
       "       \"o'keeffe's skin repair body lotion and dry skin moisturizer\",\n",
       "       'olay moisturizing lotion sensitive skin',\n",
       "       'olay regenerist micro sculpting scrub cleanser',\n",
       "       'olehenriksen banana bright eye cream',\n",
       "       'omi menturm sun bears strong cool plus',\n",
       "       'onyx professional hard as hoof nail strengthening cream',\n",
       "       'origins clear improvement active charcoal mask',\n",
       "       'origins facial brush', 'origins ginzing refreshing eye cream',\n",
       "       'origins original skin retexturizing mask with rose clay',\n",
       "       'oxy maximum action sensitive face wash benzoyl peroxide %: 5%',\n",
       "       \"palmer's swivel stick lip moisturizer   cocoa butter formula   0.5oz\",\n",
       "       'panoxyl 10% foaming wash benzoyl peroxide %: 10',\n",
       "       'panoxyl acne foaming washbp %: 4%',\n",
       "       'papulex moussant soap free cleansing gel',\n",
       "       'paula’s choice 10% azelaic acid booster azelaic acid %: 10%',\n",
       "       'paula’s choice resist perfectly balanced ph cleanser',\n",
       "       \"paula's choice 10% aha and 2% bha body lotions\",\n",
       "       \"paula's choice 10% azleaic acid boosterazelaic acid %:  10%\",\n",
       "       \"paula's choice 10% niacinamide\", \"paula's choice 2% bha liquid\",\n",
       "       \"paula's choice 2% bha liquid exfoliant\",\n",
       "       \"paula's choice 2% bha lotion\",\n",
       "       \"paula's choice bha  bha percentage: 2%\",\n",
       "       'paulas choice c15 super boostervitamin c ',\n",
       "       \"paula's choice calm redness relief 1% bha lotion exfoliant\",\n",
       "       \"paula's choice calm redness relief spf 30 mineral moisturizer for normal to dry skin\",\n",
       "       \"paula's choice calm redness relief toner for normal to dry skin\",\n",
       "       \"paula's choice clinical 1% retinol treatment retinoid \",\n",
       "       \"paula's choice lipscreen spf 50\",\n",
       "       \"paula's choice pore reducing toner\",\n",
       "       \"paula's choice resist 10% niacinamide booster\",\n",
       "       \"paula's choice resist bha 9\",\n",
       "       \"paula's choice resist daily smoothing treatment with 5% aha\",\n",
       "       \"paula's choice resist weekly resurfacing treatment with 10% alpha hydroxy acid\",\n",
       "       \"paula's choice resist weightless body treatment with 2% bha\",\n",
       "       \"paula's choice skin perfecting 2% bha liquid\",\n",
       "       \"paula's choice skin perfecting 8% aha gel exfoliant\",\n",
       "       \"paula's choice skin recovery enriched calming toner\",\n",
       "       \"paula's choice weightless body treatment 2% bha\",\n",
       "       'paw paw ointment',\n",
       "       'peach and lily   super reboot resurfacing mask',\n",
       "       'perricone md face finisher moisturizer',\n",
       "       'peter thomas roth cucumber gel mask',\n",
       "       'peter thomas roth firmx peeling gel',\n",
       "       'peter thomas roth irish moor mud purifying black mask',\n",
       "       'peter thomas roth retinol fusion pmretinoid ',\n",
       "       'peter thomas roth un wrinkle turbo smoothing toning lotion',\n",
       "       'philosophy renewed hope in a jar',\n",
       "       'physiogel daily defence replenishing night cream',\n",
       "       'pipette eczema lotion', 'piping rock health kaolin white clay',\n",
       "       'pixi by petra glow tonic', 'pixi glow peel pads',\n",
       "       'pixi glow tonic', 'pixi glow tonic  ',\n",
       "       'pixi skintreats peel & polish', 'plain washcloth',\n",
       "       'pogo lip balm   iced iced berry',\n",
       "       \"pond's rejuveness anti wrinkle cream\", 'pumice stone',\n",
       "       'pure lanolin', 'purito abp triple synergy liquid',\n",
       "       'purito centella green level recovery cream',\n",
       "       'purito centella green level unscented sun',\n",
       "       'purito centella unscented eye cream',\n",
       "       'purito comfy water sun block', 'pyunkang yul essence toner',\n",
       "       'queen helene mint julep masque', 'raw honey and dark brown sugar',\n",
       "       'refinement vitamin c serum',\n",
       "       'ren evercalm overnight recovery balm',\n",
       "       'ren vita mineral emollient rescue cream',\n",
       "       'reversa acnex purifying solution ',\n",
       "       'revox just 2% salicylic acid serum/peeling solution',\n",
       "       'rhoto hada labo gokujun cleansing oil',\n",
       "       'rhoto skin aqua uv moisture milk spf 50 pa++++',\n",
       "       'rohto mentholatum melano cc vitamin c essence vitamin c ',\n",
       "       'rohto mentholatum skin aqua uv super moisture gel gold spf 50+ pa++++',\n",
       "       'rohto skin aqua uv super moisture milk spf 50+ pa++++',\n",
       "       'rosebud salve', 'sal3 bar soap', 'salux cloth',\n",
       "       'schick intuition sensitive care razor', 'sea kind body lotion',\n",
       "       'sebamed clear face care gel',\n",
       "       'sephora collection honey lip exfoliator',\n",
       "       'sephora collection instant intensive moisturizer + cream',\n",
       "       'sheamoisture olive & green tea hand & body scrub',\n",
       "       'shikai borage therapy hand cream', 'silicone cleansing pad',\n",
       "       'silk naturals 8% aha toner', 'silk naturals super defense serum',\n",
       "       'silk naturals super serum', 'simple foaming cleanser',\n",
       "       'simple hydrating oil cleanser',\n",
       "       'simple kind to skin foaming cleanser',\n",
       "       'simple kind to skin hydrating cleansing oil.',\n",
       "       'simple kind to skin micellar cleansing water',\n",
       "       'simple kind to skin refreshing facial gel wash',\n",
       "       'simple kind to skin refreshing facial gel wash.',\n",
       "       'simple micellar water',\n",
       "       'simple regeneration age resisting eye cream 15ml',\n",
       "       'simple skincare hydrating cleansing oil',\n",
       "       'skinactive micellar cleansing water & waterproof makeup remover',\n",
       "       'skinceutical’s c e ferulicvitamin c ',\n",
       "       'skinceuticals retinol 0.5retinoid ',\n",
       "       'skinceuticals triple lipid restore 2:4:2',\n",
       "       'skinfix lip repair balm', 'skinfood black sugar strawberry mask',\n",
       "       'skinfood black sugar wash off mask',\n",
       "       'skinfood marine food  hydrogel sheet mask',\n",
       "       'skinfood royal honey good moisturizing cream',\n",
       "       'skinlex 10% niacinamide serum ',\n",
       "       'skinlex 10% niacinamide serumniacinamide %: 10%',\n",
       "       'skinmedica retinol complexretinoid ', 'skoah hydradew mask',\n",
       "       'skoah kick it kream', 'skoah kleansing lotion',\n",
       "       'skyn iceland berry lip fix with wintered red algae',\n",
       "       \"smile's prid drawing salve\",\n",
       "       'smith & vandiver aromatherapaes geranium and rosewood face mud',\n",
       "       \"smith's rosebud salve\",\n",
       "       'softsheen carson magic regular strength shaving powder',\n",
       "       \"soo'ae donkey milk sleeping mask\",\n",
       "       'sos daily rescue facial spray',\n",
       "       'squalane oil — specifically timeless', 'st. ives apricot scrub',\n",
       "       'st. ives fresh skin apricot scrub',\n",
       "       'st. ives naturally soothing oatmeal and shea butter body lotion',\n",
       "       'stratia c+c serumvitamin c ', 'stratia liquid gold',\n",
       "       'stratia liquid gold.', 'stratia rewind',\n",
       "       'stratia rewindniacinamide %: 5%', 'stratia soft touch aha',\n",
       "       'stridex maximum pads bha percentage: salicylic acid 2%',\n",
       "       'stridex maximum strength ',\n",
       "       'su:m37 miracle rose cleansing stick ', 'subq eyes',\n",
       "       'sulwhasoo herblinic ex restorative ampoules',\n",
       "       \"summer's eve feminine wash\",\n",
       "       'sun bum mineral spf30 sunscreen lip balm',\n",
       "       'sun bum mineral sunscreen lip balm spf 30',\n",
       "       'sunday riley luna oilretinoid ',\n",
       "       'sunkiller perfect strong plus n spf 50+ pa++++',\n",
       "       'sunplay baby milk spf 34  pa+++',\n",
       "       'suntegrity natural moisturizing face sunscreen & primer',\n",
       "       \"suntique i'm safe for sensitive skin spf35+/pa+++\",\n",
       "       'super c retinol brighten & correct vitamin c serum  retinoid ',\n",
       "       'supergoop  unseen sunscreen spf 40 pa+++',\n",
       "       'supergoop glow stick spf 50',\n",
       "       'supergoop play lip balm spf 30 with acai',\n",
       "       'supergoop super power sunscreen mousse broad spectrum spf 50',\n",
       "       'supergoop unseen sunscreen spf 40', 'sweet almond oil ',\n",
       "       'sweet chef superfood+vitamins moisture boost',\n",
       "       'tanwise bronzing sunless mousse',\n",
       "       'tarte maracuja c brighter eye treatment',\n",
       "       'tatcha pure one step camellia cleansing oil',\n",
       "       'tatcha the water cream moisturizer', 'thayer’s witch hazel',\n",
       "       'thayers rose petal facial toner',\n",
       "       'the body shop camomile sumptuous cleansing butter',\n",
       "       'the body shop japanese matcha tea pollution clearing mask',\n",
       "       'the body shop sumptuous cleansing balm',\n",
       "       'the body shop tea tree face mask',\n",
       "       \"the body shop's tea tree range   specifically skin clearing facial wash, skin clearing mattifying toner, and oil\",\n",
       "       'the daily by getmr. ', 'the heritage store   rose water toner',\n",
       "       'the inkey list: beta hydroxy acid',\n",
       "       'the mama au’s manuka honey salve for h.s.',\n",
       "       'the one and only mighty melano cc vitamin c ',\n",
       "       'the ordinary aha 30% + bha 2%',\n",
       "       'the ordinary aha 30% + bha 2% peeling solution',\n",
       "       'the ordinary amino acids + b5',\n",
       "       'the ordinary ascorbic acid 8%  alpha + arbutin 2% vitamin c ',\n",
       "       'the ordinary azelaic acid suspension 10% azelaic acid %: 10%',\n",
       "       'the ordinary granactive retinoid 5% in squalene retinoid ',\n",
       "       'the ordinary lactic acid 10% + ha',\n",
       "       'the ordinary lactic acid 10% + ha 2%',\n",
       "       'the ordinary lactic acid 5% + ha',\n",
       "       'the ordinary natural moisturizing factors + ha ',\n",
       "       'the ordinary niacinamide 10% + zinc 1%',\n",
       "       'the ordinary niacinamide 10% + zinc 1%niacinamide %: 10% ',\n",
       "       'the ordinary squalane cleanser',\n",
       "       'the ordinary. niacinamide 10% + zinc 1%',\n",
       "       'the ordinary: \"niacinamide 10% + zinc 1%\"',\n",
       "       'thinksport everyday face sunscreen, naturally tinted, 2 ounce ',\n",
       "       'timeless 20% vitamin c + e ferulic acid serumvitamin c ',\n",
       "       'timeless hyaluronic acid + vitamin c serum vitamin c ',\n",
       "       'timeless hyaluronic acid vitamin c serum  vitamin c ',\n",
       "       'timeless vitamin c serum',\n",
       "       'tony moly changing magic foot peeling shoes.',\n",
       "       'tonymoly pure eco snail moisture gel',\n",
       "       'too cool for school   egg cream mask hydration',\n",
       "       \"trader joe's moisturizing cream shave \",\n",
       "       \"trader joe's nourish: enriched intensive antioxidant facial moisturizer\",\n",
       "       \"trader joe's organic virtuoso spearmint lip balm spf 15\",\n",
       "       \"trader joe's spa 100% pure jojoba oil\",\n",
       "       \"trader joe's ultra hydrating gel moisturizer\", 'tree tea oil ',\n",
       "       'tretinoin microsphere  retinoid ', 'tretinoin retinoid ',\n",
       "       'tretinoin/retin a retinoid ',\n",
       "       'tula skincare nomakeup replenishing cleansing oil',\n",
       "       'tweezerman sole smoother antibacterial callus stone',\n",
       "       'tweezerman step two it foot file', 'ultra violette lean screen',\n",
       "       'ultrabalm from lush', 'ultrasun face anti ageing lotion spf 30',\n",
       "       'ultrasun lip protection spf 30', 'unrefined, raw shea butter',\n",
       "       'unscented aveeno 24hr skin relief moisture lotion',\n",
       "       'up & up acne spot treatment', 'up & up gentle skin cleanser ',\n",
       "       'uriage hyséac fluid spf50+', 'uriage lipstick repairing care',\n",
       "       'uriage xémose moisturizing lipstick ',\n",
       "       'uv aqua rich watery essence spf50+ pa++++ ',\n",
       "       'uv lotion broad spectrum spf 30 plus',\n",
       "       'v.sun sun cream face spf 50 perfume free',\n",
       "       'vanicream daily facial moisurizer',\n",
       "       'vanicream gentle facial cleanser', 'vanicream light lotion',\n",
       "       'vanicream lite', 'vanicream lite lotion',\n",
       "       'vanicream moisturizing cream', 'vanicream sunscreen spf 50+',\n",
       "       'vasanti brighten up exfoliator',\n",
       "       'vaseline intensive care body lotion, cocoa radiant',\n",
       "       'vaseline lip therapy aloe vera lip balm tin',\n",
       "       'vaseline/petroleum jelly', 'versed skin soak rich moisture cream',\n",
       "       'vitamin c suspension 23% + ha spheres 2% vitamin c ',\n",
       "       'weleda skin food',\n",
       "       'whamisa by glow recipe green tea foaming gel cleanser',\n",
       "       'wildflower skincare plum orchid facial serum',\n",
       "       'y.s. eco bee farms raw honey',\n",
       "       'yadah oh my sun slush spf 50+/pa+++',\n",
       "       'yes to blueberries eye firming treatment',\n",
       "       'yes to carrots fragrance free daily cream cleanser',\n",
       "       'yes to coconut ultra hydrating overnight eye balm',\n",
       "       'yogurt and turmeric mask', 'yon ka lait nettoyant cleansing milk',\n",
       "       'youth to the people adaptogen deep moisture cream',\n",
       "       'yttp superberry hydrate and glow dream mask vitamin c ',\n",
       "       'yves rocher nourishing lip balm', 'zapzyt acne gel',\n",
       "       'zapzyt acne wash bha percentage: 2%',\n",
       "       'ziaja sensitive enzyme peeling',\n",
       "       'zo skin health retinol skin brightener .25%retinoid '],\n",
       "      dtype=object)"
      ]
     },
     "execution_count": 9,
     "metadata": {},
     "output_type": "execute_result"
    }
   ],
   "source": [
    "dfunique"
   ]
  },
  {
   "cell_type": "code",
   "execution_count": 10,
   "metadata": {},
   "outputs": [],
   "source": [
    "entities = []"
   ]
  },
  {
   "cell_type": "code",
   "execution_count": 11,
   "metadata": {},
   "outputs": [],
   "source": [
    "for i in df['Text']:\n",
    "    doc = nlp1(i)\n",
    "    entities.append(([(ent.text, ent.label_) for ent in doc.ents]))"
   ]
  },
  {
   "cell_type": "code",
   "execution_count": 12,
   "metadata": {},
   "outputs": [],
   "source": [
    "valids = []"
   ]
  },
  {
   "cell_type": "code",
   "execution_count": 13,
   "metadata": {},
   "outputs": [],
   "source": [
    "for i in entities:\n",
    "    v = [t for t in i if 'brand' in t]\n",
    "    valids.append(v)"
   ]
  },
  {
   "cell_type": "code",
   "execution_count": 14,
   "metadata": {},
   "outputs": [],
   "source": [
    "valids2 = [list(elem) for elem in valids]"
   ]
  },
  {
   "cell_type": "code",
   "execution_count": 15,
   "metadata": {},
   "outputs": [],
   "source": [
    "df2 = pd.DataFrame(valids2)"
   ]
  },
  {
   "cell_type": "code",
   "execution_count": 16,
   "metadata": {},
   "outputs": [],
   "source": [
    "df2 = df2.unstack().reset_index(drop=True)"
   ]
  },
  {
   "cell_type": "code",
   "execution_count": 17,
   "metadata": {},
   "outputs": [],
   "source": [
    "df2 = df2.dropna().reset_index(drop=True)"
   ]
  },
  {
   "cell_type": "code",
   "execution_count": 18,
   "metadata": {},
   "outputs": [],
   "source": [
    "brands = []\n",
    "brands2 = []\n",
    "brands3 = []\n",
    "brands4 = []"
   ]
  },
  {
   "cell_type": "code",
   "execution_count": 19,
   "metadata": {},
   "outputs": [],
   "source": [
    "import regex as re"
   ]
  },
  {
   "cell_type": "code",
   "execution_count": 20,
   "metadata": {},
   "outputs": [],
   "source": [
    "for i in df2:\n",
    "    brands.append(i[0])"
   ]
  },
  {
   "cell_type": "code",
   "execution_count": 21,
   "metadata": {},
   "outputs": [],
   "source": [
    "for s in brands:\n",
    "    s = s.replace(\"the\", \"\").replace(\":\", \"\").replace(\"'\", \"\").replace(\"’\", \"\").replace(\"gold\", \"gold bond\").replace(\"trader\", \"trader joes\").replace(\"peter\", \"peter thomas roth\").replace(\"corsx\", \"cosrx\").replace(\"kate sommerville\", \"kate somerville\")\n",
    "    s = re.sub(\"(\\.$)\", \"\", s)\n",
    "    brands2.append(s)"
   ]
  },
  {
   "cell_type": "code",
   "execution_count": 22,
   "metadata": {},
   "outputs": [],
   "source": [
    "for l in brands2:\n",
    "    y = l.lstrip()\n",
    "    brands3.append(y)"
   ]
  },
  {
   "cell_type": "code",
   "execution_count": 23,
   "metadata": {},
   "outputs": [],
   "source": [
    "br = ['kiehls', 'skinceuticals', 'farmacy', 'ordinary', 'vanicream', 'supergoop', 'pixi']"
   ]
  },
  {
   "cell_type": "code",
   "execution_count": 24,
   "metadata": {},
   "outputs": [],
   "source": [
    "for s in brands3:\n",
    "    if any(ele in s for ele in br):\n",
    "        if re.search(\"(.*?)(?:\\s)\", s) != None:\n",
    "            s = re.search(\"(.*?)(?:\\s)\", s)\n",
    "            s = s.group(1)\n",
    "            brands4.append(s)\n",
    "        else:\n",
    "            brands4.append(s)\n",
    "    else:\n",
    "        brands4.append(s)"
   ]
  },
  {
   "cell_type": "code",
   "execution_count": 25,
   "metadata": {},
   "outputs": [],
   "source": [
    "bcount = {}\n",
    "for i in brands4:\n",
    "    if i in bcount:\n",
    "        bcount[i] += 1\n",
    "    else:\n",
    "        bcount[i] = 1"
   ]
  },
  {
   "cell_type": "code",
   "execution_count": 26,
   "metadata": {},
   "outputs": [],
   "source": [
    "mydict = {key:val for key, val in bcount.items() if val >= 4}"
   ]
  },
  {
   "cell_type": "code",
   "execution_count": 27,
   "metadata": {},
   "outputs": [
    {
     "data": {
      "text/plain": [
       "{'alpha': 10,\n",
       " 'aquaphor': 6,\n",
       " 'aveeno': 11,\n",
       " 'avene': 6,\n",
       " 'bioderma': 4,\n",
       " 'biore': 7,\n",
       " 'cerave': 37,\n",
       " 'cetaphil': 5,\n",
       " 'clinique': 21,\n",
       " 'cosrx': 21,\n",
       " 'drunk elephant': 9,\n",
       " 'eltamd': 6,\n",
       " 'etude house': 5,\n",
       " 'eucerin': 7,\n",
       " 'farmacy': 6,\n",
       " 'first aid beauty': 14,\n",
       " 'fresh': 4,\n",
       " 'garnier': 8,\n",
       " 'glossier': 6,\n",
       " 'hada labo': 13,\n",
       " 'kate somerville': 6,\n",
       " 'kiehls': 7,\n",
       " 'la roche posay': 25,\n",
       " 'lush': 9,\n",
       " 'makeup artists choice': 5,\n",
       " 'neutrogena': 23,\n",
       " 'nivea': 7,\n",
       " 'paulas choice': 28,\n",
       " 'ren': 4,\n",
       " 'simple': 14,\n",
       " 'skinceuticals': 4,\n",
       " 'stratia': 15,\n",
       " 'stridex': 7,\n",
       " 'sunday riley': 4,\n",
       " 'supergoop': 6,\n",
       " 'body shop': 7,\n",
       " 'ordinary': 24,\n",
       " 'altruist': 4,\n",
       " 'gold bond': 6,\n",
       " 'konjac': 4,\n",
       " 'laneige': 5,\n",
       " 'mario': 4,\n",
       " 'origins': 4,\n",
       " 'peter thomas roth': 5,\n",
       " 'pixi': 6,\n",
       " 'purito': 4,\n",
       " 'trader joes': 5,\n",
       " 'tretinoin': 4,\n",
       " 'vanicream': 7}"
      ]
     },
     "execution_count": 27,
     "metadata": {},
     "output_type": "execute_result"
    }
   ],
   "source": [
    "mydict"
   ]
  },
  {
   "cell_type": "code",
   "execution_count": 28,
   "metadata": {},
   "outputs": [],
   "source": [
    "brandsdf = pd.DataFrame(list(mydict.items()), columns=['brands', 'count'])"
   ]
  },
  {
   "cell_type": "code",
   "execution_count": 29,
   "metadata": {},
   "outputs": [],
   "source": [
    "brandsdf = brandsdf.drop(brandsdf[brandsdf.brands == 'konjac'].index)"
   ]
  },
  {
   "cell_type": "code",
   "execution_count": 30,
   "metadata": {},
   "outputs": [],
   "source": [
    "brandsdf = brandsdf.drop(brandsdf[brandsdf.brands == 'tretinoin'].index)"
   ]
  },
  {
   "cell_type": "code",
   "execution_count": 31,
   "metadata": {},
   "outputs": [],
   "source": [
    "brandsdf = brandsdf.drop(brandsdf[brandsdf.brands == 'alpha'].index)"
   ]
  },
  {
   "cell_type": "code",
   "execution_count": 32,
   "metadata": {},
   "outputs": [
    {
     "data": {
      "text/html": [
       "<div>\n",
       "<style scoped>\n",
       "    .dataframe tbody tr th:only-of-type {\n",
       "        vertical-align: middle;\n",
       "    }\n",
       "\n",
       "    .dataframe tbody tr th {\n",
       "        vertical-align: top;\n",
       "    }\n",
       "\n",
       "    .dataframe thead th {\n",
       "        text-align: right;\n",
       "    }\n",
       "</style>\n",
       "<table border=\"1\" class=\"dataframe\">\n",
       "  <thead>\n",
       "    <tr style=\"text-align: right;\">\n",
       "      <th></th>\n",
       "      <th>brands</th>\n",
       "      <th>count</th>\n",
       "    </tr>\n",
       "  </thead>\n",
       "  <tbody>\n",
       "    <tr>\n",
       "      <th>1</th>\n",
       "      <td>aquaphor</td>\n",
       "      <td>6</td>\n",
       "    </tr>\n",
       "    <tr>\n",
       "      <th>2</th>\n",
       "      <td>aveeno</td>\n",
       "      <td>11</td>\n",
       "    </tr>\n",
       "    <tr>\n",
       "      <th>3</th>\n",
       "      <td>avene</td>\n",
       "      <td>6</td>\n",
       "    </tr>\n",
       "    <tr>\n",
       "      <th>4</th>\n",
       "      <td>bioderma</td>\n",
       "      <td>4</td>\n",
       "    </tr>\n",
       "    <tr>\n",
       "      <th>5</th>\n",
       "      <td>biore</td>\n",
       "      <td>7</td>\n",
       "    </tr>\n",
       "    <tr>\n",
       "      <th>6</th>\n",
       "      <td>cerave</td>\n",
       "      <td>37</td>\n",
       "    </tr>\n",
       "    <tr>\n",
       "      <th>7</th>\n",
       "      <td>cetaphil</td>\n",
       "      <td>5</td>\n",
       "    </tr>\n",
       "    <tr>\n",
       "      <th>8</th>\n",
       "      <td>clinique</td>\n",
       "      <td>21</td>\n",
       "    </tr>\n",
       "    <tr>\n",
       "      <th>9</th>\n",
       "      <td>cosrx</td>\n",
       "      <td>21</td>\n",
       "    </tr>\n",
       "    <tr>\n",
       "      <th>10</th>\n",
       "      <td>drunk elephant</td>\n",
       "      <td>9</td>\n",
       "    </tr>\n",
       "    <tr>\n",
       "      <th>11</th>\n",
       "      <td>eltamd</td>\n",
       "      <td>6</td>\n",
       "    </tr>\n",
       "    <tr>\n",
       "      <th>12</th>\n",
       "      <td>etude house</td>\n",
       "      <td>5</td>\n",
       "    </tr>\n",
       "    <tr>\n",
       "      <th>13</th>\n",
       "      <td>eucerin</td>\n",
       "      <td>7</td>\n",
       "    </tr>\n",
       "    <tr>\n",
       "      <th>14</th>\n",
       "      <td>farmacy</td>\n",
       "      <td>6</td>\n",
       "    </tr>\n",
       "    <tr>\n",
       "      <th>15</th>\n",
       "      <td>first aid beauty</td>\n",
       "      <td>14</td>\n",
       "    </tr>\n",
       "    <tr>\n",
       "      <th>16</th>\n",
       "      <td>fresh</td>\n",
       "      <td>4</td>\n",
       "    </tr>\n",
       "    <tr>\n",
       "      <th>17</th>\n",
       "      <td>garnier</td>\n",
       "      <td>8</td>\n",
       "    </tr>\n",
       "    <tr>\n",
       "      <th>18</th>\n",
       "      <td>glossier</td>\n",
       "      <td>6</td>\n",
       "    </tr>\n",
       "    <tr>\n",
       "      <th>19</th>\n",
       "      <td>hada labo</td>\n",
       "      <td>13</td>\n",
       "    </tr>\n",
       "    <tr>\n",
       "      <th>20</th>\n",
       "      <td>kate somerville</td>\n",
       "      <td>6</td>\n",
       "    </tr>\n",
       "    <tr>\n",
       "      <th>21</th>\n",
       "      <td>kiehls</td>\n",
       "      <td>7</td>\n",
       "    </tr>\n",
       "    <tr>\n",
       "      <th>22</th>\n",
       "      <td>la roche posay</td>\n",
       "      <td>25</td>\n",
       "    </tr>\n",
       "    <tr>\n",
       "      <th>23</th>\n",
       "      <td>lush</td>\n",
       "      <td>9</td>\n",
       "    </tr>\n",
       "    <tr>\n",
       "      <th>24</th>\n",
       "      <td>makeup artists choice</td>\n",
       "      <td>5</td>\n",
       "    </tr>\n",
       "    <tr>\n",
       "      <th>25</th>\n",
       "      <td>neutrogena</td>\n",
       "      <td>23</td>\n",
       "    </tr>\n",
       "    <tr>\n",
       "      <th>26</th>\n",
       "      <td>nivea</td>\n",
       "      <td>7</td>\n",
       "    </tr>\n",
       "    <tr>\n",
       "      <th>27</th>\n",
       "      <td>paulas choice</td>\n",
       "      <td>28</td>\n",
       "    </tr>\n",
       "    <tr>\n",
       "      <th>28</th>\n",
       "      <td>ren</td>\n",
       "      <td>4</td>\n",
       "    </tr>\n",
       "    <tr>\n",
       "      <th>29</th>\n",
       "      <td>simple</td>\n",
       "      <td>14</td>\n",
       "    </tr>\n",
       "    <tr>\n",
       "      <th>30</th>\n",
       "      <td>skinceuticals</td>\n",
       "      <td>4</td>\n",
       "    </tr>\n",
       "    <tr>\n",
       "      <th>31</th>\n",
       "      <td>stratia</td>\n",
       "      <td>15</td>\n",
       "    </tr>\n",
       "    <tr>\n",
       "      <th>32</th>\n",
       "      <td>stridex</td>\n",
       "      <td>7</td>\n",
       "    </tr>\n",
       "    <tr>\n",
       "      <th>33</th>\n",
       "      <td>sunday riley</td>\n",
       "      <td>4</td>\n",
       "    </tr>\n",
       "    <tr>\n",
       "      <th>34</th>\n",
       "      <td>supergoop</td>\n",
       "      <td>6</td>\n",
       "    </tr>\n",
       "    <tr>\n",
       "      <th>35</th>\n",
       "      <td>body shop</td>\n",
       "      <td>7</td>\n",
       "    </tr>\n",
       "    <tr>\n",
       "      <th>36</th>\n",
       "      <td>ordinary</td>\n",
       "      <td>24</td>\n",
       "    </tr>\n",
       "    <tr>\n",
       "      <th>37</th>\n",
       "      <td>altruist</td>\n",
       "      <td>4</td>\n",
       "    </tr>\n",
       "    <tr>\n",
       "      <th>38</th>\n",
       "      <td>gold bond</td>\n",
       "      <td>6</td>\n",
       "    </tr>\n",
       "    <tr>\n",
       "      <th>40</th>\n",
       "      <td>laneige</td>\n",
       "      <td>5</td>\n",
       "    </tr>\n",
       "    <tr>\n",
       "      <th>41</th>\n",
       "      <td>mario</td>\n",
       "      <td>4</td>\n",
       "    </tr>\n",
       "    <tr>\n",
       "      <th>42</th>\n",
       "      <td>origins</td>\n",
       "      <td>4</td>\n",
       "    </tr>\n",
       "    <tr>\n",
       "      <th>43</th>\n",
       "      <td>peter thomas roth</td>\n",
       "      <td>5</td>\n",
       "    </tr>\n",
       "    <tr>\n",
       "      <th>44</th>\n",
       "      <td>pixi</td>\n",
       "      <td>6</td>\n",
       "    </tr>\n",
       "    <tr>\n",
       "      <th>45</th>\n",
       "      <td>purito</td>\n",
       "      <td>4</td>\n",
       "    </tr>\n",
       "    <tr>\n",
       "      <th>46</th>\n",
       "      <td>trader joes</td>\n",
       "      <td>5</td>\n",
       "    </tr>\n",
       "    <tr>\n",
       "      <th>48</th>\n",
       "      <td>vanicream</td>\n",
       "      <td>7</td>\n",
       "    </tr>\n",
       "  </tbody>\n",
       "</table>\n",
       "</div>"
      ],
      "text/plain": [
       "                   brands  count\n",
       "1                aquaphor      6\n",
       "2                  aveeno     11\n",
       "3                   avene      6\n",
       "4                bioderma      4\n",
       "5                   biore      7\n",
       "6                  cerave     37\n",
       "7                cetaphil      5\n",
       "8                clinique     21\n",
       "9                   cosrx     21\n",
       "10         drunk elephant      9\n",
       "11                 eltamd      6\n",
       "12            etude house      5\n",
       "13                eucerin      7\n",
       "14                farmacy      6\n",
       "15       first aid beauty     14\n",
       "16                  fresh      4\n",
       "17                garnier      8\n",
       "18               glossier      6\n",
       "19              hada labo     13\n",
       "20        kate somerville      6\n",
       "21                 kiehls      7\n",
       "22         la roche posay     25\n",
       "23                   lush      9\n",
       "24  makeup artists choice      5\n",
       "25             neutrogena     23\n",
       "26                  nivea      7\n",
       "27          paulas choice     28\n",
       "28                    ren      4\n",
       "29                 simple     14\n",
       "30          skinceuticals      4\n",
       "31                stratia     15\n",
       "32                stridex      7\n",
       "33           sunday riley      4\n",
       "34              supergoop      6\n",
       "35              body shop      7\n",
       "36               ordinary     24\n",
       "37               altruist      4\n",
       "38              gold bond      6\n",
       "40                laneige      5\n",
       "41                  mario      4\n",
       "42                origins      4\n",
       "43      peter thomas roth      5\n",
       "44                   pixi      6\n",
       "45                 purito      4\n",
       "46            trader joes      5\n",
       "48              vanicream      7"
      ]
     },
     "execution_count": 32,
     "metadata": {},
     "output_type": "execute_result"
    }
   ],
   "source": [
    "brandsdf"
   ]
  },
  {
   "cell_type": "code",
   "execution_count": 33,
   "metadata": {},
   "outputs": [
    {
     "name": "stdout",
     "output_type": "stream",
     "text": [
      "Requirement already satisfied: wordcloud in c:\\users\\callm\\anaconda3\\lib\\site-packages (1.8.2.2)\n",
      "Requirement already satisfied: numpy>=1.6.1 in c:\\users\\callm\\appdata\\roaming\\python\\python38\\site-packages (from wordcloud) (1.20.0)\n",
      "Requirement already satisfied: pillow in c:\\users\\callm\\anaconda3\\lib\\site-packages (from wordcloud) (8.0.1)\n",
      "Requirement already satisfied: matplotlib in c:\\users\\callm\\anaconda3\\lib\\site-packages (from wordcloud) (3.3.2)\n",
      "Requirement already satisfied: cycler>=0.10 in c:\\users\\callm\\anaconda3\\lib\\site-packages (from matplotlib->wordcloud) (0.10.0)\n",
      "Requirement already satisfied: certifi>=2020.06.20 in c:\\users\\callm\\anaconda3\\lib\\site-packages (from matplotlib->wordcloud) (2020.6.20)\n",
      "Requirement already satisfied: python-dateutil>=2.1 in c:\\users\\callm\\anaconda3\\lib\\site-packages (from matplotlib->wordcloud) (2.8.1)\n",
      "Requirement already satisfied: pyparsing!=2.0.4,!=2.1.2,!=2.1.6,>=2.0.3 in c:\\users\\callm\\anaconda3\\lib\\site-packages (from matplotlib->wordcloud) (2.4.7)\n",
      "Requirement already satisfied: kiwisolver>=1.0.1 in c:\\users\\callm\\anaconda3\\lib\\site-packages (from matplotlib->wordcloud) (1.3.0)\n",
      "Requirement already satisfied: six in c:\\users\\callm\\anaconda3\\lib\\site-packages (from cycler>=0.10->matplotlib->wordcloud) (1.15.0)\n"
     ]
    }
   ],
   "source": [
    "!pip install wordcloud"
   ]
  },
  {
   "cell_type": "code",
   "execution_count": 34,
   "metadata": {},
   "outputs": [
    {
     "name": "stdout",
     "output_type": "stream",
     "text": [
      "Requirement already satisfied: plotly in c:\\users\\callm\\anaconda3\\lib\\site-packages (5.13.0)\n",
      "Requirement already satisfied: tenacity>=6.2.0 in c:\\users\\callm\\anaconda3\\lib\\site-packages (from plotly) (8.1.0)\n"
     ]
    }
   ],
   "source": [
    "!pip install plotly"
   ]
  },
  {
   "cell_type": "code",
   "execution_count": 35,
   "metadata": {},
   "outputs": [],
   "source": [
    "import plotly.express as px\n",
    "import plotly.graph_objects as go\n",
    "import matplotlib.pyplot as plt\n",
    "import pandas as pd\n",
    "\n",
    "pd.set_option(\"max_columns\", 46)"
   ]
  },
  {
   "cell_type": "code",
   "execution_count": 40,
   "metadata": {},
   "outputs": [
    {
     "data": {
      "application/vnd.plotly.v1+json": {
       "config": {
        "plotlyServerURL": "https://plot.ly"
       },
       "data": [
        {
         "branchvalues": "total",
         "domain": {
          "x": [
           0,
           1
          ],
          "y": [
           0,
           1
          ]
         },
         "hovertemplate": "labels=%{label}<br>count=%{value}<br>parent=%{parent}<br>id=%{id}<extra></extra>",
         "ids": [
          "altruist",
          "aquaphor",
          "aveeno",
          "avene",
          "bioderma",
          "biore",
          "body shop",
          "cerave",
          "cetaphil",
          "clinique",
          "cosrx",
          "drunk elephant",
          "eltamd",
          "etude house",
          "eucerin",
          "farmacy",
          "first aid beauty",
          "fresh",
          "garnier",
          "glossier",
          "gold bond",
          "hada labo",
          "kate somerville",
          "kiehls",
          "la roche posay",
          "laneige",
          "lush",
          "makeup artists choice",
          "mario",
          "neutrogena",
          "nivea",
          "ordinary",
          "origins",
          "paulas choice",
          "peter thomas roth",
          "pixi",
          "purito",
          "ren",
          "simple",
          "skinceuticals",
          "stratia",
          "stridex",
          "sunday riley",
          "supergoop",
          "trader joes",
          "vanicream"
         ],
         "labels": [
          "altruist",
          "aquaphor",
          "aveeno",
          "avene",
          "bioderma",
          "biore",
          "body shop",
          "cerave",
          "cetaphil",
          "clinique",
          "cosrx",
          "drunk elephant",
          "eltamd",
          "etude house",
          "eucerin",
          "farmacy",
          "first aid beauty",
          "fresh",
          "garnier",
          "glossier",
          "gold bond",
          "hada labo",
          "kate somerville",
          "kiehls",
          "la roche posay",
          "laneige",
          "lush",
          "makeup artists choice",
          "mario",
          "neutrogena",
          "nivea",
          "ordinary",
          "origins",
          "paulas choice",
          "peter thomas roth",
          "pixi",
          "purito",
          "ren",
          "simple",
          "skinceuticals",
          "stratia",
          "stridex",
          "sunday riley",
          "supergoop",
          "trader joes",
          "vanicream"
         ],
         "name": "",
         "parents": [
          "",
          "",
          "",
          "",
          "",
          "",
          "",
          "",
          "",
          "",
          "",
          "",
          "",
          "",
          "",
          "",
          "",
          "",
          "",
          "",
          "",
          "",
          "",
          "",
          "",
          "",
          "",
          "",
          "",
          "",
          "",
          "",
          "",
          "",
          "",
          "",
          "",
          "",
          "",
          "",
          "",
          "",
          "",
          "",
          "",
          ""
         ],
         "type": "sunburst",
         "values": [
          4,
          6,
          11,
          6,
          4,
          7,
          7,
          37,
          5,
          21,
          21,
          9,
          6,
          5,
          7,
          6,
          14,
          4,
          8,
          6,
          6,
          13,
          6,
          7,
          25,
          5,
          9,
          5,
          4,
          23,
          7,
          24,
          4,
          28,
          5,
          6,
          4,
          4,
          14,
          4,
          15,
          7,
          4,
          6,
          5,
          7
         ]
        }
       ],
       "layout": {
        "height": 750,
        "legend": {
         "tracegroupgap": 0
        },
        "margin": {
         "t": 60
        },
        "template": {
         "data": {
          "bar": [
           {
            "error_x": {
             "color": "#2a3f5f"
            },
            "error_y": {
             "color": "#2a3f5f"
            },
            "marker": {
             "line": {
              "color": "#E5ECF6",
              "width": 0.5
             },
             "pattern": {
              "fillmode": "overlay",
              "size": 10,
              "solidity": 0.2
             }
            },
            "type": "bar"
           }
          ],
          "barpolar": [
           {
            "marker": {
             "line": {
              "color": "#E5ECF6",
              "width": 0.5
             },
             "pattern": {
              "fillmode": "overlay",
              "size": 10,
              "solidity": 0.2
             }
            },
            "type": "barpolar"
           }
          ],
          "carpet": [
           {
            "aaxis": {
             "endlinecolor": "#2a3f5f",
             "gridcolor": "white",
             "linecolor": "white",
             "minorgridcolor": "white",
             "startlinecolor": "#2a3f5f"
            },
            "baxis": {
             "endlinecolor": "#2a3f5f",
             "gridcolor": "white",
             "linecolor": "white",
             "minorgridcolor": "white",
             "startlinecolor": "#2a3f5f"
            },
            "type": "carpet"
           }
          ],
          "choropleth": [
           {
            "colorbar": {
             "outlinewidth": 0,
             "ticks": ""
            },
            "type": "choropleth"
           }
          ],
          "contour": [
           {
            "colorbar": {
             "outlinewidth": 0,
             "ticks": ""
            },
            "colorscale": [
             [
              0,
              "#0d0887"
             ],
             [
              0.1111111111111111,
              "#46039f"
             ],
             [
              0.2222222222222222,
              "#7201a8"
             ],
             [
              0.3333333333333333,
              "#9c179e"
             ],
             [
              0.4444444444444444,
              "#bd3786"
             ],
             [
              0.5555555555555556,
              "#d8576b"
             ],
             [
              0.6666666666666666,
              "#ed7953"
             ],
             [
              0.7777777777777778,
              "#fb9f3a"
             ],
             [
              0.8888888888888888,
              "#fdca26"
             ],
             [
              1,
              "#f0f921"
             ]
            ],
            "type": "contour"
           }
          ],
          "contourcarpet": [
           {
            "colorbar": {
             "outlinewidth": 0,
             "ticks": ""
            },
            "type": "contourcarpet"
           }
          ],
          "heatmap": [
           {
            "colorbar": {
             "outlinewidth": 0,
             "ticks": ""
            },
            "colorscale": [
             [
              0,
              "#0d0887"
             ],
             [
              0.1111111111111111,
              "#46039f"
             ],
             [
              0.2222222222222222,
              "#7201a8"
             ],
             [
              0.3333333333333333,
              "#9c179e"
             ],
             [
              0.4444444444444444,
              "#bd3786"
             ],
             [
              0.5555555555555556,
              "#d8576b"
             ],
             [
              0.6666666666666666,
              "#ed7953"
             ],
             [
              0.7777777777777778,
              "#fb9f3a"
             ],
             [
              0.8888888888888888,
              "#fdca26"
             ],
             [
              1,
              "#f0f921"
             ]
            ],
            "type": "heatmap"
           }
          ],
          "heatmapgl": [
           {
            "colorbar": {
             "outlinewidth": 0,
             "ticks": ""
            },
            "colorscale": [
             [
              0,
              "#0d0887"
             ],
             [
              0.1111111111111111,
              "#46039f"
             ],
             [
              0.2222222222222222,
              "#7201a8"
             ],
             [
              0.3333333333333333,
              "#9c179e"
             ],
             [
              0.4444444444444444,
              "#bd3786"
             ],
             [
              0.5555555555555556,
              "#d8576b"
             ],
             [
              0.6666666666666666,
              "#ed7953"
             ],
             [
              0.7777777777777778,
              "#fb9f3a"
             ],
             [
              0.8888888888888888,
              "#fdca26"
             ],
             [
              1,
              "#f0f921"
             ]
            ],
            "type": "heatmapgl"
           }
          ],
          "histogram": [
           {
            "marker": {
             "pattern": {
              "fillmode": "overlay",
              "size": 10,
              "solidity": 0.2
             }
            },
            "type": "histogram"
           }
          ],
          "histogram2d": [
           {
            "colorbar": {
             "outlinewidth": 0,
             "ticks": ""
            },
            "colorscale": [
             [
              0,
              "#0d0887"
             ],
             [
              0.1111111111111111,
              "#46039f"
             ],
             [
              0.2222222222222222,
              "#7201a8"
             ],
             [
              0.3333333333333333,
              "#9c179e"
             ],
             [
              0.4444444444444444,
              "#bd3786"
             ],
             [
              0.5555555555555556,
              "#d8576b"
             ],
             [
              0.6666666666666666,
              "#ed7953"
             ],
             [
              0.7777777777777778,
              "#fb9f3a"
             ],
             [
              0.8888888888888888,
              "#fdca26"
             ],
             [
              1,
              "#f0f921"
             ]
            ],
            "type": "histogram2d"
           }
          ],
          "histogram2dcontour": [
           {
            "colorbar": {
             "outlinewidth": 0,
             "ticks": ""
            },
            "colorscale": [
             [
              0,
              "#0d0887"
             ],
             [
              0.1111111111111111,
              "#46039f"
             ],
             [
              0.2222222222222222,
              "#7201a8"
             ],
             [
              0.3333333333333333,
              "#9c179e"
             ],
             [
              0.4444444444444444,
              "#bd3786"
             ],
             [
              0.5555555555555556,
              "#d8576b"
             ],
             [
              0.6666666666666666,
              "#ed7953"
             ],
             [
              0.7777777777777778,
              "#fb9f3a"
             ],
             [
              0.8888888888888888,
              "#fdca26"
             ],
             [
              1,
              "#f0f921"
             ]
            ],
            "type": "histogram2dcontour"
           }
          ],
          "mesh3d": [
           {
            "colorbar": {
             "outlinewidth": 0,
             "ticks": ""
            },
            "type": "mesh3d"
           }
          ],
          "parcoords": [
           {
            "line": {
             "colorbar": {
              "outlinewidth": 0,
              "ticks": ""
             }
            },
            "type": "parcoords"
           }
          ],
          "pie": [
           {
            "automargin": true,
            "type": "pie"
           }
          ],
          "scatter": [
           {
            "fillpattern": {
             "fillmode": "overlay",
             "size": 10,
             "solidity": 0.2
            },
            "type": "scatter"
           }
          ],
          "scatter3d": [
           {
            "line": {
             "colorbar": {
              "outlinewidth": 0,
              "ticks": ""
             }
            },
            "marker": {
             "colorbar": {
              "outlinewidth": 0,
              "ticks": ""
             }
            },
            "type": "scatter3d"
           }
          ],
          "scattercarpet": [
           {
            "marker": {
             "colorbar": {
              "outlinewidth": 0,
              "ticks": ""
             }
            },
            "type": "scattercarpet"
           }
          ],
          "scattergeo": [
           {
            "marker": {
             "colorbar": {
              "outlinewidth": 0,
              "ticks": ""
             }
            },
            "type": "scattergeo"
           }
          ],
          "scattergl": [
           {
            "marker": {
             "colorbar": {
              "outlinewidth": 0,
              "ticks": ""
             }
            },
            "type": "scattergl"
           }
          ],
          "scattermapbox": [
           {
            "marker": {
             "colorbar": {
              "outlinewidth": 0,
              "ticks": ""
             }
            },
            "type": "scattermapbox"
           }
          ],
          "scatterpolar": [
           {
            "marker": {
             "colorbar": {
              "outlinewidth": 0,
              "ticks": ""
             }
            },
            "type": "scatterpolar"
           }
          ],
          "scatterpolargl": [
           {
            "marker": {
             "colorbar": {
              "outlinewidth": 0,
              "ticks": ""
             }
            },
            "type": "scatterpolargl"
           }
          ],
          "scatterternary": [
           {
            "marker": {
             "colorbar": {
              "outlinewidth": 0,
              "ticks": ""
             }
            },
            "type": "scatterternary"
           }
          ],
          "surface": [
           {
            "colorbar": {
             "outlinewidth": 0,
             "ticks": ""
            },
            "colorscale": [
             [
              0,
              "#0d0887"
             ],
             [
              0.1111111111111111,
              "#46039f"
             ],
             [
              0.2222222222222222,
              "#7201a8"
             ],
             [
              0.3333333333333333,
              "#9c179e"
             ],
             [
              0.4444444444444444,
              "#bd3786"
             ],
             [
              0.5555555555555556,
              "#d8576b"
             ],
             [
              0.6666666666666666,
              "#ed7953"
             ],
             [
              0.7777777777777778,
              "#fb9f3a"
             ],
             [
              0.8888888888888888,
              "#fdca26"
             ],
             [
              1,
              "#f0f921"
             ]
            ],
            "type": "surface"
           }
          ],
          "table": [
           {
            "cells": {
             "fill": {
              "color": "#EBF0F8"
             },
             "line": {
              "color": "white"
             }
            },
            "header": {
             "fill": {
              "color": "#C8D4E3"
             },
             "line": {
              "color": "white"
             }
            },
            "type": "table"
           }
          ]
         },
         "layout": {
          "annotationdefaults": {
           "arrowcolor": "#2a3f5f",
           "arrowhead": 0,
           "arrowwidth": 1
          },
          "autotypenumbers": "strict",
          "coloraxis": {
           "colorbar": {
            "outlinewidth": 0,
            "ticks": ""
           }
          },
          "colorscale": {
           "diverging": [
            [
             0,
             "#8e0152"
            ],
            [
             0.1,
             "#c51b7d"
            ],
            [
             0.2,
             "#de77ae"
            ],
            [
             0.3,
             "#f1b6da"
            ],
            [
             0.4,
             "#fde0ef"
            ],
            [
             0.5,
             "#f7f7f7"
            ],
            [
             0.6,
             "#e6f5d0"
            ],
            [
             0.7,
             "#b8e186"
            ],
            [
             0.8,
             "#7fbc41"
            ],
            [
             0.9,
             "#4d9221"
            ],
            [
             1,
             "#276419"
            ]
           ],
           "sequential": [
            [
             0,
             "#0d0887"
            ],
            [
             0.1111111111111111,
             "#46039f"
            ],
            [
             0.2222222222222222,
             "#7201a8"
            ],
            [
             0.3333333333333333,
             "#9c179e"
            ],
            [
             0.4444444444444444,
             "#bd3786"
            ],
            [
             0.5555555555555556,
             "#d8576b"
            ],
            [
             0.6666666666666666,
             "#ed7953"
            ],
            [
             0.7777777777777778,
             "#fb9f3a"
            ],
            [
             0.8888888888888888,
             "#fdca26"
            ],
            [
             1,
             "#f0f921"
            ]
           ],
           "sequentialminus": [
            [
             0,
             "#0d0887"
            ],
            [
             0.1111111111111111,
             "#46039f"
            ],
            [
             0.2222222222222222,
             "#7201a8"
            ],
            [
             0.3333333333333333,
             "#9c179e"
            ],
            [
             0.4444444444444444,
             "#bd3786"
            ],
            [
             0.5555555555555556,
             "#d8576b"
            ],
            [
             0.6666666666666666,
             "#ed7953"
            ],
            [
             0.7777777777777778,
             "#fb9f3a"
            ],
            [
             0.8888888888888888,
             "#fdca26"
            ],
            [
             1,
             "#f0f921"
            ]
           ]
          },
          "colorway": [
           "#636efa",
           "#EF553B",
           "#00cc96",
           "#ab63fa",
           "#FFA15A",
           "#19d3f3",
           "#FF6692",
           "#B6E880",
           "#FF97FF",
           "#FECB52"
          ],
          "font": {
           "color": "#2a3f5f"
          },
          "geo": {
           "bgcolor": "white",
           "lakecolor": "white",
           "landcolor": "#E5ECF6",
           "showlakes": true,
           "showland": true,
           "subunitcolor": "white"
          },
          "hoverlabel": {
           "align": "left"
          },
          "hovermode": "closest",
          "mapbox": {
           "style": "light"
          },
          "paper_bgcolor": "white",
          "plot_bgcolor": "#E5ECF6",
          "polar": {
           "angularaxis": {
            "gridcolor": "white",
            "linecolor": "white",
            "ticks": ""
           },
           "bgcolor": "#E5ECF6",
           "radialaxis": {
            "gridcolor": "white",
            "linecolor": "white",
            "ticks": ""
           }
          },
          "scene": {
           "xaxis": {
            "backgroundcolor": "#E5ECF6",
            "gridcolor": "white",
            "gridwidth": 2,
            "linecolor": "white",
            "showbackground": true,
            "ticks": "",
            "zerolinecolor": "white"
           },
           "yaxis": {
            "backgroundcolor": "#E5ECF6",
            "gridcolor": "white",
            "gridwidth": 2,
            "linecolor": "white",
            "showbackground": true,
            "ticks": "",
            "zerolinecolor": "white"
           },
           "zaxis": {
            "backgroundcolor": "#E5ECF6",
            "gridcolor": "white",
            "gridwidth": 2,
            "linecolor": "white",
            "showbackground": true,
            "ticks": "",
            "zerolinecolor": "white"
           }
          },
          "shapedefaults": {
           "line": {
            "color": "#2a3f5f"
           }
          },
          "ternary": {
           "aaxis": {
            "gridcolor": "white",
            "linecolor": "white",
            "ticks": ""
           },
           "baxis": {
            "gridcolor": "white",
            "linecolor": "white",
            "ticks": ""
           },
           "bgcolor": "#E5ECF6",
           "caxis": {
            "gridcolor": "white",
            "linecolor": "white",
            "ticks": ""
           }
          },
          "title": {
           "x": 0.05
          },
          "xaxis": {
           "automargin": true,
           "gridcolor": "white",
           "linecolor": "white",
           "ticks": "",
           "title": {
            "standoff": 15
           },
           "zerolinecolor": "white",
           "zerolinewidth": 2
          },
          "yaxis": {
           "automargin": true,
           "gridcolor": "white",
           "linecolor": "white",
           "ticks": "",
           "title": {
            "standoff": 15
           },
           "zerolinecolor": "white",
           "zerolinewidth": 2
          }
         }
        },
        "title": {
         "text": "Top Brands Mentioned in Subreddit \"r/skincareaddiction\""
        },
        "width": 750
       }
      },
      "text/html": [
       "<div>                            <div id=\"24bab835-e1b7-4920-8d73-62ddfb2527a3\" class=\"plotly-graph-div\" style=\"height:750px; width:750px;\"></div>            <script type=\"text/javascript\">                require([\"plotly\"], function(Plotly) {                    window.PLOTLYENV=window.PLOTLYENV || {};                                    if (document.getElementById(\"24bab835-e1b7-4920-8d73-62ddfb2527a3\")) {                    Plotly.newPlot(                        \"24bab835-e1b7-4920-8d73-62ddfb2527a3\",                        [{\"branchvalues\":\"total\",\"domain\":{\"x\":[0.0,1.0],\"y\":[0.0,1.0]},\"hovertemplate\":\"labels=%{label}<br>count=%{value}<br>parent=%{parent}<br>id=%{id}<extra></extra>\",\"ids\":[\"altruist\",\"aquaphor\",\"aveeno\",\"avene\",\"bioderma\",\"biore\",\"body shop\",\"cerave\",\"cetaphil\",\"clinique\",\"cosrx\",\"drunk elephant\",\"eltamd\",\"etude house\",\"eucerin\",\"farmacy\",\"first aid beauty\",\"fresh\",\"garnier\",\"glossier\",\"gold bond\",\"hada labo\",\"kate somerville\",\"kiehls\",\"la roche posay\",\"laneige\",\"lush\",\"makeup artists choice\",\"mario\",\"neutrogena\",\"nivea\",\"ordinary\",\"origins\",\"paulas choice\",\"peter thomas roth\",\"pixi\",\"purito\",\"ren\",\"simple\",\"skinceuticals\",\"stratia\",\"stridex\",\"sunday riley\",\"supergoop\",\"trader joes\",\"vanicream\"],\"labels\":[\"altruist\",\"aquaphor\",\"aveeno\",\"avene\",\"bioderma\",\"biore\",\"body shop\",\"cerave\",\"cetaphil\",\"clinique\",\"cosrx\",\"drunk elephant\",\"eltamd\",\"etude house\",\"eucerin\",\"farmacy\",\"first aid beauty\",\"fresh\",\"garnier\",\"glossier\",\"gold bond\",\"hada labo\",\"kate somerville\",\"kiehls\",\"la roche posay\",\"laneige\",\"lush\",\"makeup artists choice\",\"mario\",\"neutrogena\",\"nivea\",\"ordinary\",\"origins\",\"paulas choice\",\"peter thomas roth\",\"pixi\",\"purito\",\"ren\",\"simple\",\"skinceuticals\",\"stratia\",\"stridex\",\"sunday riley\",\"supergoop\",\"trader joes\",\"vanicream\"],\"name\":\"\",\"parents\":[\"\",\"\",\"\",\"\",\"\",\"\",\"\",\"\",\"\",\"\",\"\",\"\",\"\",\"\",\"\",\"\",\"\",\"\",\"\",\"\",\"\",\"\",\"\",\"\",\"\",\"\",\"\",\"\",\"\",\"\",\"\",\"\",\"\",\"\",\"\",\"\",\"\",\"\",\"\",\"\",\"\",\"\",\"\",\"\",\"\",\"\"],\"values\":[4,6,11,6,4,7,7,37,5,21,21,9,6,5,7,6,14,4,8,6,6,13,6,7,25,5,9,5,4,23,7,24,4,28,5,6,4,4,14,4,15,7,4,6,5,7],\"type\":\"sunburst\"}],                        {\"template\":{\"data\":{\"histogram2dcontour\":[{\"type\":\"histogram2dcontour\",\"colorbar\":{\"outlinewidth\":0,\"ticks\":\"\"},\"colorscale\":[[0.0,\"#0d0887\"],[0.1111111111111111,\"#46039f\"],[0.2222222222222222,\"#7201a8\"],[0.3333333333333333,\"#9c179e\"],[0.4444444444444444,\"#bd3786\"],[0.5555555555555556,\"#d8576b\"],[0.6666666666666666,\"#ed7953\"],[0.7777777777777778,\"#fb9f3a\"],[0.8888888888888888,\"#fdca26\"],[1.0,\"#f0f921\"]]}],\"choropleth\":[{\"type\":\"choropleth\",\"colorbar\":{\"outlinewidth\":0,\"ticks\":\"\"}}],\"histogram2d\":[{\"type\":\"histogram2d\",\"colorbar\":{\"outlinewidth\":0,\"ticks\":\"\"},\"colorscale\":[[0.0,\"#0d0887\"],[0.1111111111111111,\"#46039f\"],[0.2222222222222222,\"#7201a8\"],[0.3333333333333333,\"#9c179e\"],[0.4444444444444444,\"#bd3786\"],[0.5555555555555556,\"#d8576b\"],[0.6666666666666666,\"#ed7953\"],[0.7777777777777778,\"#fb9f3a\"],[0.8888888888888888,\"#fdca26\"],[1.0,\"#f0f921\"]]}],\"heatmap\":[{\"type\":\"heatmap\",\"colorbar\":{\"outlinewidth\":0,\"ticks\":\"\"},\"colorscale\":[[0.0,\"#0d0887\"],[0.1111111111111111,\"#46039f\"],[0.2222222222222222,\"#7201a8\"],[0.3333333333333333,\"#9c179e\"],[0.4444444444444444,\"#bd3786\"],[0.5555555555555556,\"#d8576b\"],[0.6666666666666666,\"#ed7953\"],[0.7777777777777778,\"#fb9f3a\"],[0.8888888888888888,\"#fdca26\"],[1.0,\"#f0f921\"]]}],\"heatmapgl\":[{\"type\":\"heatmapgl\",\"colorbar\":{\"outlinewidth\":0,\"ticks\":\"\"},\"colorscale\":[[0.0,\"#0d0887\"],[0.1111111111111111,\"#46039f\"],[0.2222222222222222,\"#7201a8\"],[0.3333333333333333,\"#9c179e\"],[0.4444444444444444,\"#bd3786\"],[0.5555555555555556,\"#d8576b\"],[0.6666666666666666,\"#ed7953\"],[0.7777777777777778,\"#fb9f3a\"],[0.8888888888888888,\"#fdca26\"],[1.0,\"#f0f921\"]]}],\"contourcarpet\":[{\"type\":\"contourcarpet\",\"colorbar\":{\"outlinewidth\":0,\"ticks\":\"\"}}],\"contour\":[{\"type\":\"contour\",\"colorbar\":{\"outlinewidth\":0,\"ticks\":\"\"},\"colorscale\":[[0.0,\"#0d0887\"],[0.1111111111111111,\"#46039f\"],[0.2222222222222222,\"#7201a8\"],[0.3333333333333333,\"#9c179e\"],[0.4444444444444444,\"#bd3786\"],[0.5555555555555556,\"#d8576b\"],[0.6666666666666666,\"#ed7953\"],[0.7777777777777778,\"#fb9f3a\"],[0.8888888888888888,\"#fdca26\"],[1.0,\"#f0f921\"]]}],\"surface\":[{\"type\":\"surface\",\"colorbar\":{\"outlinewidth\":0,\"ticks\":\"\"},\"colorscale\":[[0.0,\"#0d0887\"],[0.1111111111111111,\"#46039f\"],[0.2222222222222222,\"#7201a8\"],[0.3333333333333333,\"#9c179e\"],[0.4444444444444444,\"#bd3786\"],[0.5555555555555556,\"#d8576b\"],[0.6666666666666666,\"#ed7953\"],[0.7777777777777778,\"#fb9f3a\"],[0.8888888888888888,\"#fdca26\"],[1.0,\"#f0f921\"]]}],\"mesh3d\":[{\"type\":\"mesh3d\",\"colorbar\":{\"outlinewidth\":0,\"ticks\":\"\"}}],\"scatter\":[{\"fillpattern\":{\"fillmode\":\"overlay\",\"size\":10,\"solidity\":0.2},\"type\":\"scatter\"}],\"parcoords\":[{\"type\":\"parcoords\",\"line\":{\"colorbar\":{\"outlinewidth\":0,\"ticks\":\"\"}}}],\"scatterpolargl\":[{\"type\":\"scatterpolargl\",\"marker\":{\"colorbar\":{\"outlinewidth\":0,\"ticks\":\"\"}}}],\"bar\":[{\"error_x\":{\"color\":\"#2a3f5f\"},\"error_y\":{\"color\":\"#2a3f5f\"},\"marker\":{\"line\":{\"color\":\"#E5ECF6\",\"width\":0.5},\"pattern\":{\"fillmode\":\"overlay\",\"size\":10,\"solidity\":0.2}},\"type\":\"bar\"}],\"scattergeo\":[{\"type\":\"scattergeo\",\"marker\":{\"colorbar\":{\"outlinewidth\":0,\"ticks\":\"\"}}}],\"scatterpolar\":[{\"type\":\"scatterpolar\",\"marker\":{\"colorbar\":{\"outlinewidth\":0,\"ticks\":\"\"}}}],\"histogram\":[{\"marker\":{\"pattern\":{\"fillmode\":\"overlay\",\"size\":10,\"solidity\":0.2}},\"type\":\"histogram\"}],\"scattergl\":[{\"type\":\"scattergl\",\"marker\":{\"colorbar\":{\"outlinewidth\":0,\"ticks\":\"\"}}}],\"scatter3d\":[{\"type\":\"scatter3d\",\"line\":{\"colorbar\":{\"outlinewidth\":0,\"ticks\":\"\"}},\"marker\":{\"colorbar\":{\"outlinewidth\":0,\"ticks\":\"\"}}}],\"scattermapbox\":[{\"type\":\"scattermapbox\",\"marker\":{\"colorbar\":{\"outlinewidth\":0,\"ticks\":\"\"}}}],\"scatterternary\":[{\"type\":\"scatterternary\",\"marker\":{\"colorbar\":{\"outlinewidth\":0,\"ticks\":\"\"}}}],\"scattercarpet\":[{\"type\":\"scattercarpet\",\"marker\":{\"colorbar\":{\"outlinewidth\":0,\"ticks\":\"\"}}}],\"carpet\":[{\"aaxis\":{\"endlinecolor\":\"#2a3f5f\",\"gridcolor\":\"white\",\"linecolor\":\"white\",\"minorgridcolor\":\"white\",\"startlinecolor\":\"#2a3f5f\"},\"baxis\":{\"endlinecolor\":\"#2a3f5f\",\"gridcolor\":\"white\",\"linecolor\":\"white\",\"minorgridcolor\":\"white\",\"startlinecolor\":\"#2a3f5f\"},\"type\":\"carpet\"}],\"table\":[{\"cells\":{\"fill\":{\"color\":\"#EBF0F8\"},\"line\":{\"color\":\"white\"}},\"header\":{\"fill\":{\"color\":\"#C8D4E3\"},\"line\":{\"color\":\"white\"}},\"type\":\"table\"}],\"barpolar\":[{\"marker\":{\"line\":{\"color\":\"#E5ECF6\",\"width\":0.5},\"pattern\":{\"fillmode\":\"overlay\",\"size\":10,\"solidity\":0.2}},\"type\":\"barpolar\"}],\"pie\":[{\"automargin\":true,\"type\":\"pie\"}]},\"layout\":{\"autotypenumbers\":\"strict\",\"colorway\":[\"#636efa\",\"#EF553B\",\"#00cc96\",\"#ab63fa\",\"#FFA15A\",\"#19d3f3\",\"#FF6692\",\"#B6E880\",\"#FF97FF\",\"#FECB52\"],\"font\":{\"color\":\"#2a3f5f\"},\"hovermode\":\"closest\",\"hoverlabel\":{\"align\":\"left\"},\"paper_bgcolor\":\"white\",\"plot_bgcolor\":\"#E5ECF6\",\"polar\":{\"bgcolor\":\"#E5ECF6\",\"angularaxis\":{\"gridcolor\":\"white\",\"linecolor\":\"white\",\"ticks\":\"\"},\"radialaxis\":{\"gridcolor\":\"white\",\"linecolor\":\"white\",\"ticks\":\"\"}},\"ternary\":{\"bgcolor\":\"#E5ECF6\",\"aaxis\":{\"gridcolor\":\"white\",\"linecolor\":\"white\",\"ticks\":\"\"},\"baxis\":{\"gridcolor\":\"white\",\"linecolor\":\"white\",\"ticks\":\"\"},\"caxis\":{\"gridcolor\":\"white\",\"linecolor\":\"white\",\"ticks\":\"\"}},\"coloraxis\":{\"colorbar\":{\"outlinewidth\":0,\"ticks\":\"\"}},\"colorscale\":{\"sequential\":[[0.0,\"#0d0887\"],[0.1111111111111111,\"#46039f\"],[0.2222222222222222,\"#7201a8\"],[0.3333333333333333,\"#9c179e\"],[0.4444444444444444,\"#bd3786\"],[0.5555555555555556,\"#d8576b\"],[0.6666666666666666,\"#ed7953\"],[0.7777777777777778,\"#fb9f3a\"],[0.8888888888888888,\"#fdca26\"],[1.0,\"#f0f921\"]],\"sequentialminus\":[[0.0,\"#0d0887\"],[0.1111111111111111,\"#46039f\"],[0.2222222222222222,\"#7201a8\"],[0.3333333333333333,\"#9c179e\"],[0.4444444444444444,\"#bd3786\"],[0.5555555555555556,\"#d8576b\"],[0.6666666666666666,\"#ed7953\"],[0.7777777777777778,\"#fb9f3a\"],[0.8888888888888888,\"#fdca26\"],[1.0,\"#f0f921\"]],\"diverging\":[[0,\"#8e0152\"],[0.1,\"#c51b7d\"],[0.2,\"#de77ae\"],[0.3,\"#f1b6da\"],[0.4,\"#fde0ef\"],[0.5,\"#f7f7f7\"],[0.6,\"#e6f5d0\"],[0.7,\"#b8e186\"],[0.8,\"#7fbc41\"],[0.9,\"#4d9221\"],[1,\"#276419\"]]},\"xaxis\":{\"gridcolor\":\"white\",\"linecolor\":\"white\",\"ticks\":\"\",\"title\":{\"standoff\":15},\"zerolinecolor\":\"white\",\"automargin\":true,\"zerolinewidth\":2},\"yaxis\":{\"gridcolor\":\"white\",\"linecolor\":\"white\",\"ticks\":\"\",\"title\":{\"standoff\":15},\"zerolinecolor\":\"white\",\"automargin\":true,\"zerolinewidth\":2},\"scene\":{\"xaxis\":{\"backgroundcolor\":\"#E5ECF6\",\"gridcolor\":\"white\",\"linecolor\":\"white\",\"showbackground\":true,\"ticks\":\"\",\"zerolinecolor\":\"white\",\"gridwidth\":2},\"yaxis\":{\"backgroundcolor\":\"#E5ECF6\",\"gridcolor\":\"white\",\"linecolor\":\"white\",\"showbackground\":true,\"ticks\":\"\",\"zerolinecolor\":\"white\",\"gridwidth\":2},\"zaxis\":{\"backgroundcolor\":\"#E5ECF6\",\"gridcolor\":\"white\",\"linecolor\":\"white\",\"showbackground\":true,\"ticks\":\"\",\"zerolinecolor\":\"white\",\"gridwidth\":2}},\"shapedefaults\":{\"line\":{\"color\":\"#2a3f5f\"}},\"annotationdefaults\":{\"arrowcolor\":\"#2a3f5f\",\"arrowhead\":0,\"arrowwidth\":1},\"geo\":{\"bgcolor\":\"white\",\"landcolor\":\"#E5ECF6\",\"subunitcolor\":\"white\",\"showland\":true,\"showlakes\":true,\"lakecolor\":\"white\"},\"title\":{\"x\":0.05},\"mapbox\":{\"style\":\"light\"}}},\"legend\":{\"tracegroupgap\":0},\"margin\":{\"t\":60},\"height\":750,\"width\":750,\"title\":{\"text\":\"Top Brands Mentioned in Subreddit \\\"r/skincareaddiction\\\"\"}},                        {\"responsive\": true}                    ).then(function(){\n",
       "                            \n",
       "var gd = document.getElementById('24bab835-e1b7-4920-8d73-62ddfb2527a3');\n",
       "var x = new MutationObserver(function (mutations, observer) {{\n",
       "        var display = window.getComputedStyle(gd).display;\n",
       "        if (!display || display === 'none') {{\n",
       "            console.log([gd, 'removed!']);\n",
       "            Plotly.purge(gd);\n",
       "            observer.disconnect();\n",
       "        }}\n",
       "}});\n",
       "\n",
       "// Listen for the removal of the full notebook cells\n",
       "var notebookContainer = gd.closest('#notebook-container');\n",
       "if (notebookContainer) {{\n",
       "    x.observe(notebookContainer, {childList: true});\n",
       "}}\n",
       "\n",
       "// Listen for the clearing of the current output cell\n",
       "var outputEl = gd.closest('.output');\n",
       "if (outputEl) {{\n",
       "    x.observe(outputEl, {childList: true});\n",
       "}}\n",
       "\n",
       "                        })                };                });            </script>        </div>"
      ]
     },
     "metadata": {},
     "output_type": "display_data"
    }
   ],
   "source": [
    "fig = px.sunburst(brandsdf,\n",
    "                  path=[\"brands\"],\n",
    "                  values=\"count\",\n",
    "                  width=750, height=750)\n",
    "fig.update_layout(\n",
    "    title_text='Top Brands Mentioned in Subreddit \"r/skincareaddiction\"')\n",
    "fig.show()\n",
    "#view at https://nahcg.github.io/spacyreddit/sunburst.html"
   ]
  },
  {
   "cell_type": "code",
   "execution_count": 37,
   "metadata": {},
   "outputs": [],
   "source": [
    "from wordcloud import WordCloud\n",
    "\n",
    "wc = WordCloud(width=500, height=300, max_words=50, background_color=\"white\", min_font_size = 10).generate_from_frequencies(mydict)"
   ]
  },
  {
   "cell_type": "code",
   "execution_count": 38,
   "metadata": {},
   "outputs": [
    {
     "data": {
      "image/png": "[encoded data removed]",
      "text/plain": [
       "<Figure size 864x720 with 1 Axes>"
      ]
     },
     "metadata": {
      "needs_background": "light"
     },
     "output_type": "display_data"
    },
    {
     "data": {
      "text/plain": [
       "<Figure size 432x288 with 0 Axes>"
      ]
     },
     "metadata": {},
     "output_type": "display_data"
    }
   ],
   "source": [
    "import matplotlib.pyplot as plt\n",
    "\n",
    "plt.figure(figsize=(12, 10))\n",
    "plt.imshow(wc, interpolation='bilinear')\n",
    "plt.axis(\"off\")\n",
    "plt.figure()\n",
    "plt.show()"
   ]
  }
 ],
 "metadata": {
  "kernelspec": {
   "display_name": "Python 3",
   "language": "python",
   "name": "python3"
  },
  "language_info": {
   "codemirror_mode": {
    "name": "ipython",
    "version": 3
   },
   "file_extension": ".py",
   "mimetype": "text/x-python",
   "name": "python",
   "nbconvert_exporter": "python",
   "pygments_lexer": "ipython3",
   "version": "3.8.5"
  }
 },
 "nbformat": 4,
 "nbformat_minor": 4
}
